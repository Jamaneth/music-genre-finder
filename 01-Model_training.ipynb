{
  "nbformat": 4,
  "nbformat_minor": 0,
  "metadata": {
    "colab": {
      "name": "music_genre_CNNmodel_256_mod_GV bis.ipynb",
      "version": "0.3.2",
      "provenance": [],
      "collapsed_sections": [
        "XD75mWhg8F2R",
        "aebCfspRSB7o",
        "Hl0un7Hf2oEm"
      ],
      "toc_visible": true
    },
    "kernelspec": {
      "name": "python3",
      "display_name": "Python 3"
    },
    "accelerator": "GPU"
  },
  "cells": [
    {
      "metadata": {
        "id": "view-in-github",
        "colab_type": "text"
      },
      "cell_type": "markdown",
      "source": [
        "[View in Colaboratory](https://colab.research.google.com/github/Jamaneth/music-genre-finder/blob/master/%E2%80%9Cmusic_genre_CNNmodel_256.ipynb)"
      ]
    },
    {
      "metadata": {
        "id": "owvn-NeJ4xR4",
        "colab_type": "text"
      },
      "cell_type": "markdown",
      "source": [
        "# Modelling music genres with Convolutional Neural Networks"
      ]
    },
    {
      "metadata": {
        "id": "_daDlVNS4zAT",
        "colab_type": "text"
      },
      "cell_type": "markdown",
      "source": [
        "The previous notebook was mostly about **data processing**:\n",
        "- Download the initial data,\n",
        "- Reduce it,\n",
        "- Make it more readable.\n",
        "\n",
        "Here, we will be using the output of that previous notebook."
      ]
    },
    {
      "metadata": {
        "id": "FuCXT0Kyx_bJ",
        "colab_type": "text"
      },
      "cell_type": "markdown",
      "source": [
        "## Importing the data we need"
      ]
    },
    {
      "metadata": {
        "id": "XD75mWhg8F2R",
        "colab_type": "text"
      },
      "cell_type": "markdown",
      "source": [
        "### Downloading the main packages"
      ]
    },
    {
      "metadata": {
        "id": "el92Q248yq-g",
        "colab_type": "text"
      },
      "cell_type": "markdown",
      "source": [
        "Note: the Google Drive download **should work** no matter the Google account the user may choose for the authentication."
      ]
    },
    {
      "metadata": {
        "id": "iFUlWZAXSamO",
        "colab_type": "code",
        "outputId": "284595bb-1c44-430f-9713-912ea338b8b7",
        "colab": {
          "base_uri": "https://localhost:8080/",
          "height": 246
        }
      },
      "cell_type": "code",
      "source": [
        "!pip install psutil\n",
        "!pip install librosa\n",
        "!pip install -U -q PyDrive"
      ],
      "execution_count": 1,
      "outputs": [
        {
          "output_type": "stream",
          "text": [
            "Requirement already satisfied: psutil in /usr/local/lib/python3.6/dist-packages (5.4.7)\n",
            "Requirement already satisfied: librosa in /usr/local/lib/python3.6/dist-packages (0.6.2)\n",
            "Requirement already satisfied: scikit-learn!=0.19.0,>=0.14.0 in /usr/local/lib/python3.6/dist-packages (from librosa) (0.19.2)\n",
            "Requirement already satisfied: decorator>=3.0.0 in /usr/local/lib/python3.6/dist-packages (from librosa) (4.3.0)\n",
            "Requirement already satisfied: numba>=0.38.0 in /usr/local/lib/python3.6/dist-packages (from librosa) (0.40.1)\n",
            "Requirement already satisfied: audioread>=2.0.0 in /usr/local/lib/python3.6/dist-packages (from librosa) (2.1.6)\n",
            "Requirement already satisfied: scipy>=0.14.0 in /usr/local/lib/python3.6/dist-packages (from librosa) (0.19.1)\n",
            "Requirement already satisfied: joblib>=0.12 in /usr/local/lib/python3.6/dist-packages (from librosa) (0.12.5)\n",
            "Requirement already satisfied: numpy>=1.8.0 in /usr/local/lib/python3.6/dist-packages (from librosa) (1.14.6)\n",
            "Requirement already satisfied: six>=1.3 in /usr/local/lib/python3.6/dist-packages (from librosa) (1.11.0)\n",
            "Requirement already satisfied: resampy>=0.2.0 in /usr/local/lib/python3.6/dist-packages (from librosa) (0.2.1)\n",
            "Requirement already satisfied: llvmlite>=0.25.0dev0 in /usr/local/lib/python3.6/dist-packages (from numba>=0.38.0->librosa) (0.25.0)\n"
          ],
          "name": "stdout"
        }
      ]
    },
    {
      "metadata": {
        "id": "J1toE3hySpSf",
        "colab_type": "code",
        "colab": {}
      },
      "cell_type": "code",
      "source": [
        "# to install pytorch on colab\n",
        "from os import path\n",
        "from wheel.pep425tags import get_abbr_impl, get_impl_ver, get_abi_tag\n",
        "platform = '{}{}-{}'.format(get_abbr_impl(), get_impl_ver(), get_abi_tag())\n",
        "\n",
        "accelerator = 'cu80' if path.exists('/opt/bin/nvidia-smi') else 'cpu'\n",
        "\n",
        "!pip install -q http://download.pytorch.org/whl/{accelerator}/torch-0.4.1-{platform}-linux_x86_64.whl torchvision"
      ],
      "execution_count": 0,
      "outputs": []
    },
    {
      "metadata": {
        "id": "K__v0jccyKuA",
        "colab_type": "code",
        "colab": {}
      },
      "cell_type": "code",
      "source": [
        "import pandas as pd\n",
        "import numpy as np\n",
        "import matplotlib.pyplot as plt\n",
        "import os\n",
        "import time\n",
        "\n",
        "import psutil\n",
        "import pickle\n",
        "\n",
        "import librosa\n",
        "import torch\n",
        "import torch.nn as nn\n",
        "import torchvision\n",
        "from torchvision import models,transforms,datasets\n",
        "\n",
        "%matplotlib inline"
      ],
      "execution_count": 0,
      "outputs": []
    },
    {
      "metadata": {
        "id": "_fYS3SgF8MVk",
        "colab_type": "code",
        "colab": {}
      },
      "cell_type": "code",
      "source": [
        "# Install the PyDrive wrapper & import libraries.\n",
        "# This only needs to be done once per notebook.\n",
        "\n",
        "from pydrive.auth import GoogleAuth\n",
        "from pydrive.drive import GoogleDrive\n",
        "from google.colab import auth\n",
        "from oauth2client.client import GoogleCredentials\n",
        "from google.colab import drive"
      ],
      "execution_count": 0,
      "outputs": []
    },
    {
      "metadata": {
        "id": "7HQfL2eZ8NF0",
        "colab_type": "text"
      },
      "cell_type": "markdown",
      "source": [
        "### Data import"
      ]
    },
    {
      "metadata": {
        "id": "y48t59rSUMMW",
        "colab_type": "code",
        "outputId": "13c1ce9d-5ab5-4cef-ba0e-c47a837ff216",
        "colab": {
          "base_uri": "https://localhost:8080/",
          "height": 34
        }
      },
      "cell_type": "code",
      "source": [
        "use_gpu = torch.cuda.is_available()\n",
        "print('Using gpu: %s ' % use_gpu)\n",
        "\n",
        "dtype = torch.FloatTensor\n",
        "if use_gpu:\n",
        "    dtype = torch.cuda.FloatTensor"
      ],
      "execution_count": 6,
      "outputs": [
        {
          "output_type": "stream",
          "text": [
            "Using gpu: True \n"
          ],
          "name": "stdout"
        }
      ]
    },
    {
      "metadata": {
        "id": "Bp2_q2UfH3bY",
        "colab_type": "code",
        "colab": {}
      },
      "cell_type": "code",
      "source": [
        "# If equal to True: we download the full dataset on Google Drive\n",
        "# Else: we download the .zip file with the 1000 songs only\n",
        "full_data_download = False"
      ],
      "execution_count": 0,
      "outputs": []
    },
    {
      "metadata": {
        "id": "3HwHAmtD5D6v",
        "colab_type": "code",
        "colab": {}
      },
      "cell_type": "code",
      "source": [
        "# Authenticate and create the PyDrive client.\n",
        "# This only needs to be done once per notebook.\n",
        "auth.authenticate_user()\n",
        "gauth = GoogleAuth()\n",
        "gauth.credentials = GoogleCredentials.get_application_default()\n",
        "gdrive = GoogleDrive(gauth)\n",
        "\n",
        "small_id = \"1maJ4o_aHSy-ZLHUzOYuQ0QnRbS3rIciX\"\n",
        "downloaded = gdrive.CreateFile({'id': small_id})\n",
        "downloaded.GetContentFile('small_tracks.csv')\n",
        "tracks = pd.read_csv('small_tracks.csv')\n",
        "\n",
        "tracks_id = \"1me5bv76Fd9mFyJd25TSzOrl6SrcxsFFk\"\n",
        "downloaded = gdrive.CreateFile({'id': tracks_id})\n",
        "downloaded.GetContentFile('tracks.csv')\n",
        "\n",
        "model_1_id = \"1nKNXKfvVhNNekepP6_64AoDQM2p4x10P\"\n",
        "downloaded = gdrive.CreateFile({'id': model_1_id})\n",
        "downloaded.GetContentFile('SAVED_MODEL_1.pt')\n",
        "\n",
        "model_2_id = \"1nKzwp1iE6f2lKWS1AzIU9U5eoh7D2esw\"\n",
        "downloaded = gdrive.CreateFile({'id': model_2_id})\n",
        "downloaded.GetContentFile('SAVED_MODEL_2.pt')\n",
        "\n",
        "\n",
        "if full_data_download == True:\n",
        "  \n",
        "  drive.mount('/content/gdrive')\n",
        "  spectrogram_source = 'gdrive/My Drive/Colab Notebooks/data/spectrogram'\n",
        "  \n",
        "else:\n",
        "\n",
        "  zip_id = '1n-sRLDAAZfdibGQXPYYo8v0s0rcDGJC6'\n",
        "  downloaded = gdrive.CreateFile({'id': zip_id})\n",
        "  downloaded.GetContentFile('zip_spectrogram.zip')\n",
        "  \n",
        "  !unzip zip_spectrogram.zip\n",
        "  spectrogram_source = 'spectrogram'\n",
        "\n",
        "\n",
        "#print('Downloaded content \"{}\"'.format(downloaded.GetContentString()))"
      ],
      "execution_count": 0,
      "outputs": []
    },
    {
      "metadata": {
        "id": "07G7i0gGXi0A",
        "colab_type": "code",
        "colab": {}
      },
      "cell_type": "code",
      "source": [
        "tracks = pd.read_csv('small_tracks.csv')"
      ],
      "execution_count": 0,
      "outputs": []
    },
    {
      "metadata": {
        "id": "BKRhktnfINNx",
        "colab_type": "text"
      },
      "cell_type": "markdown",
      "source": [
        "### Unzipping and cleaning the files"
      ]
    },
    {
      "metadata": {
        "id": "ITF7iBnkx17W",
        "colab_type": "text"
      },
      "cell_type": "markdown",
      "source": [
        "The step of unzipping the spectrograms, and then loading them to the memory, still takes a bit of time, but it's not quite as ridiculous as the previous notebook.\n",
        "- We only unzip 1,000 files instead of 8,000,\n",
        "- Transforming the .txt files back into Numpy arrays only takes a bit less than three minutes, so it's still reasonable."
      ]
    },
    {
      "metadata": {
        "id": "LQlBAah9zoxq",
        "colab_type": "code",
        "outputId": "d6d6a577-3585-40ad-bdde-f8a6acfc5646",
        "colab": {
          "base_uri": "https://localhost:8080/",
          "height": 34
        }
      },
      "cell_type": "code",
      "source": [
        "len(os.listdir(spectrogram_source))"
      ],
      "execution_count": 10,
      "outputs": [
        {
          "output_type": "execute_result",
          "data": {
            "text/plain": [
              "1000"
            ]
          },
          "metadata": {
            "tags": []
          },
          "execution_count": 10
        }
      ]
    },
    {
      "metadata": {
        "id": "v5iwrI9Hzt33",
        "colab_type": "text"
      },
      "cell_type": "markdown",
      "source": [
        "There is one extra file that appeared during the process and that we couldn't really get rid of before, so let's remove it now."
      ]
    },
    {
      "metadata": {
        "id": "tZU0QbO7z7vi",
        "colab_type": "code",
        "colab": {}
      },
      "cell_type": "code",
      "source": [
        "for file_name in os.listdir('spectrogram'):\n",
        "  if file_name[-4:] != \".txt\": # Remove the one file that does not have a .txt extension\n",
        "    os.remove('spectrogram/' + file_name)"
      ],
      "execution_count": 0,
      "outputs": []
    },
    {
      "metadata": {
        "id": "uYFDwIQa0Orc",
        "colab_type": "code",
        "outputId": "873a7af8-a654-492d-8e7c-6721a6373ab1",
        "colab": {
          "base_uri": "https://localhost:8080/",
          "height": 34
        }
      },
      "cell_type": "code",
      "source": [
        "len(os.listdir(spectrogram_source))"
      ],
      "execution_count": 12,
      "outputs": [
        {
          "output_type": "execute_result",
          "data": {
            "text/plain": [
              "1000"
            ]
          },
          "metadata": {
            "tags": []
          },
          "execution_count": 12
        }
      ]
    },
    {
      "metadata": {
        "id": "Y4QJVT1x0Qqk",
        "colab_type": "text"
      },
      "cell_type": "markdown",
      "source": [
        "Everything is in order: we can now import every text file in Numpy again."
      ]
    },
    {
      "metadata": {
        "id": "7lQpKbqc8BiA",
        "colab_type": "code",
        "colab": {}
      },
      "cell_type": "code",
      "source": [
        "def dict_loader(spectrogram_source, save_dict = True):\n",
        "  \n",
        "  start_time = time.time()\n",
        "  file_dict = {}\n",
        "\n",
        "  for i, file_name in enumerate(os.listdir(spectrogram_source)):\n",
        "    if file_name[-4:] == \".txt\":\n",
        "      file_dict[file_name[:-4]] = np.loadtxt('%s/%s' % (spectrogram_source, file_name), dtype = \"float16\")\n",
        "    \n",
        "      if i % 200 == 0:\n",
        "        # We want to keep track of the RAM used because Google Colab has a hard\n",
        "        # limit of 12GB used. Beyond that, it shuts down automatically.\n",
        "        print('File no.%d – Time lapsed: %f' % (i, time.time() - start_time))\n",
        "        print(psutil.virtual_memory())\n",
        "  \n",
        "  print('Time lapsed: %f' % (time.time() - start_time))\n",
        "  \n",
        "  # When we use the full dataset, which is stored on Google Drive,\n",
        "  # loading the dictionary may be slow.\n",
        "  #\n",
        "  # Therefore, in this case, we may want to save it to avoid wasting\n",
        "  # too much time.\n",
        "  \n",
        "  if save_dict:\n",
        "    filehandler = open(\"spectrogram_dict\", \"wb\")\n",
        "    pickle.dump(file_dict, filehandler)\n",
        "    filehandler.close()\n",
        "  \n",
        "  return(file_dict)"
      ],
      "execution_count": 0,
      "outputs": []
    },
    {
      "metadata": {
        "id": "gCp01ydwSIZQ",
        "colab_type": "code",
        "colab": {
          "base_uri": "https://localhost:8080/",
          "height": 254
        },
        "outputId": "41d560bc-4721-49ac-e6df-d0be96bfff04"
      },
      "cell_type": "code",
      "source": [
        "file_dict = dict_loader(spectrogram_source, save_dict = False)"
      ],
      "execution_count": 15,
      "outputs": [
        {
          "output_type": "stream",
          "text": [
            "File no.0 – Time lapsed: 0.174770\n",
            "svmem(total=13655248896, available=11040776192, percent=19.1, used=4106764288, free=366899200, active=4984668160, inactive=7854764032, buffers=46723072, cached=9134862336, shared=872448, slab=305119232)\n",
            "File no.200 – Time lapsed: 31.818868\n",
            "svmem(total=13655248896, available=11040702464, percent=19.1, used=4105641984, free=156061696, active=5173866496, inactive=7875981312, buffers=46686208, cached=9346859008, shared=868352, slab=306151424)\n",
            "File no.400 – Time lapsed: 63.642843\n",
            "svmem(total=13655248896, available=11040673792, percent=19.1, used=4102594560, free=197038080, active=4807503872, inactive=8211431424, buffers=46526464, cached=9309089792, shared=868352, slab=296669184)\n",
            "File no.600 – Time lapsed: 95.266523\n",
            "svmem(total=13655248896, available=11040391168, percent=19.1, used=3898621952, free=156585984, active=4809515008, inactive=8250363904, buffers=46534656, cached=9553506304, shared=868352, slab=296054784)\n",
            "File no.800 – Time lapsed: 127.111247\n",
            "svmem(total=13655248896, available=11040407552, percent=19.1, used=3485794304, free=159944704, active=4701372416, inactive=8357355520, buffers=46542848, cached=9962967040, shared=868352, slab=294555648)\n",
            "Time lapsed: 158.598830\n"
          ],
          "name": "stdout"
        }
      ]
    },
    {
      "metadata": {
        "id": "aebCfspRSB7o",
        "colab_type": "text"
      },
      "cell_type": "markdown",
      "source": [
        "## Data visualisation *via* a mel spectrogram"
      ]
    },
    {
      "metadata": {
        "id": "6HsK--V5kwHf",
        "colab_type": "text"
      },
      "cell_type": "markdown",
      "source": [
        "### Function definition"
      ]
    },
    {
      "metadata": {
        "id": "mqWs1kE17IKL",
        "colab_type": "code",
        "colab": {}
      },
      "cell_type": "code",
      "source": [
        "def spectrogram_display(file_name, display = \"all\"):\n",
        "  \"\"\"\n",
        "  Input: the 6-digit code referring to an original .mp3 file\n",
        "  Output: the according spectogram display\n",
        "  \n",
        "  Display == \"all\": we show the whole 30 second window\n",
        "  Otherwise, display is an integer between 0 and 9, and corresponds to the\n",
        "  first, second, ..., tenth 3-second window.\n",
        "  \"\"\"\n",
        "\n",
        "  mel_spectrogram = file_dict[file_name]\n",
        "  \n",
        "  if display != \"all\":\n",
        "    \n",
        "    try:\n",
        "      mel_spectrogram = np.split(mel_spectrogram, 10, 1)[display]\n",
        "      track_start = 3 * display\n",
        "      track_end = track_start + 4\n",
        "      step = 0.5\n",
        "    except (TypeError, ValueError, IndexError) as e:\n",
        "      raise Exception('\"display\" should either be equal to \"all\" or to an integer between 0 and 9.')\n",
        "      \n",
        "  else:\n",
        "    track_start = 0\n",
        "    track_end = 31\n",
        "    step = 5\n",
        "    \n",
        "  frame_number = mel_spectrogram.shape[1]\n",
        "    \n",
        "  plt.figure(figsize=(10, 4))\n",
        "  plt.imshow(np.log(mel_spectrogram+1), origin=\"lower\", aspect=\"auto\", cmap=\"jet\")\n",
        "  plt.xticks(np.linspace(0, frame_number, 7), np.arange(track_start, track_end, step))\n",
        "  plt.xlabel(\"time (seconds)\"); plt.ylabel(\"mel scale\"); plt.colorbar(); plt.tight_layout()\n",
        "  plt.title(\"Spectrogram of track no. %s\" % file_name)\n",
        "  # plt.savefig(\"mel_spectrogram.png\", dpi=300)\n",
        "  plt.show()"
      ],
      "execution_count": 0,
      "outputs": []
    },
    {
      "metadata": {
        "id": "yLXX4aU_8LhJ",
        "colab_type": "text"
      },
      "cell_type": "markdown",
      "source": [
        "### Full frame"
      ]
    },
    {
      "metadata": {
        "id": "fxWKpn8Z8NFd",
        "colab_type": "code",
        "outputId": "8189a26c-3c79-4ddd-c84e-99130ca98eca",
        "colab": {
          "base_uri": "https://localhost:8080/",
          "height": 332
        }
      },
      "cell_type": "code",
      "source": [
        "spectrogram_display('014579', display = \"all\")"
      ],
      "execution_count": 14,
      "outputs": [
        {
          "output_type": "display_data",
          "data": {
            "image/png": "[encoded data removed]",
            "text/plain": [
              "<matplotlib.figure.Figure at 0x7f9a95991588>"
            ]
          },
          "metadata": {
            "tags": []
          }
        }
      ]
    },
    {
      "metadata": {
        "id": "WmAqVvYL8PsG",
        "colab_type": "text"
      },
      "cell_type": "markdown",
      "source": [
        "### Three-second window"
      ]
    },
    {
      "metadata": {
        "id": "6CL0wChmWOGt",
        "colab_type": "code",
        "outputId": "51809fff-a118-4789-9a7d-b4805af8210e",
        "colab": {
          "base_uri": "https://localhost:8080/",
          "height": 332
        }
      },
      "cell_type": "code",
      "source": [
        "spectrogram_display('014579', display = 3)"
      ],
      "execution_count": 15,
      "outputs": [
        {
          "output_type": "display_data",
          "data": {
            "image/png": "[encoded data removed]",
            "text/plain": [
              "<matplotlib.figure.Figure at 0x7f9a959913c8>"
            ]
          },
          "metadata": {
            "tags": []
          }
        }
      ]
    },
    {
      "metadata": {
        "id": "rGDlfdHTYnFH",
        "colab_type": "text"
      },
      "cell_type": "markdown",
      "source": [
        "## Yet more data processing"
      ]
    },
    {
      "metadata": {
        "id": "kPykQx4arXn-",
        "colab_type": "text"
      },
      "cell_type": "markdown",
      "source": [
        "### Uniformisation of the track labels"
      ]
    },
    {
      "metadata": {
        "id": "SJTe_UC_cn1M",
        "colab_type": "code",
        "colab": {}
      },
      "cell_type": "code",
      "source": [
        "# We change the file extension from .mp3 to .txt in the `tracks` sheet\n",
        "# We also remove the subdirectory\n",
        "\n",
        "tracks.track_id = tracks.track_id.apply(lambda x: str(x).rjust(6, '0'))\n",
        "tracks.file_name = tracks.file_name.apply(lambda x: str(x).split('/')[1].replace('.mp3', '.txt'))\n",
        "tracks.set_index('track_id', inplace = True)\n",
        "tracks = tracks.reindex(file_dict.keys()).sort_index()"
      ],
      "execution_count": 0,
      "outputs": []
    },
    {
      "metadata": {
        "id": "7ShiM_Vlr_sQ",
        "colab_type": "text"
      },
      "cell_type": "markdown",
      "source": [
        "### Treating the data and splitting it into a training set, a validation set, and a test set"
      ]
    },
    {
      "metadata": {
        "id": "ISw2i1fwtYIX",
        "colab_type": "code",
        "colab": {}
      },
      "cell_type": "code",
      "source": [
        "def full_aggregator(labels, file_dict = file_dict):\n",
        "  \n",
        "  return np.array([file_dict[track_id] for track_id in labels.index if file_dict[track_id].shape == (64, 2580)])\n",
        "\n",
        "\n",
        "\n",
        "def track_aggregator(labels, file_dict = file_dict):\n",
        "  \n",
        "  \"\"\"\n",
        "  Replace labels by train_labels or test_labels in order to get the proper input,\n",
        "  either for the train dataset or the test dataset\n",
        "  \"\"\"\n",
        "  \n",
        "  return np.array([np.split(file_dict[track_id], 10, 1)[i] for track_id in labels.index for i in range(0,10) if file_dict[track_id].shape == (64, 2580)])\n",
        "\n",
        "\n",
        "def genre_multiplier(labels, multiplier = 10):\n",
        "  \n",
        "  \"\"\"\n",
        "  Since we split our tracks into ten 3-second long tracks, we need to multiply\n",
        "  the number of labels by ten every time.\n",
        "  \"\"\"\n",
        "  \n",
        "  genre_list = []\n",
        "  \n",
        "  for genre in labels.genres:\n",
        "    genre = [genre] * multiplier\n",
        "    genre_list += genre\n",
        "    \n",
        "  return genre_list"
      ],
      "execution_count": 0,
      "outputs": []
    },
    {
      "metadata": {
        "id": "Z9aiQrCvsMSt",
        "colab_type": "code",
        "colab": {}
      },
      "cell_type": "code",
      "source": [
        "from sklearn.model_selection import train_test_split\n",
        "\n",
        "train_labels, test_labels = train_test_split(tracks, test_size=0.1, random_state = 2)\n",
        "train_labels, validation_labels = train_test_split(train_labels, test_size = 0.1/0.9, random_state = 0)\n",
        "train_labels = train_labels.sort_index()\n",
        "validation_labels = validation_labels.sort_index()\n",
        "test_labels = test_labels.sort_index()"
      ],
      "execution_count": 0,
      "outputs": []
    },
    {
      "metadata": {
        "id": "ywyZoW6KuMTQ",
        "colab_type": "code",
        "colab": {}
      },
      "cell_type": "code",
      "source": [
        "# Our track spectrograms\n",
        "#full_track = np.log(full_aggregator(tracks) + 1)\n",
        "train_tracks = np.log(track_aggregator(train_labels) + 1)\n",
        "validation_tracks = np.log(track_aggregator(validation_labels) + 1)\n",
        "test_tracks = np.log(track_aggregator(test_labels) + 1)\n",
        "\n",
        "#full_track = full_aggregator(tracks)\n",
        "#train_tracks = track_aggregator(train_labels)\n",
        "#validation_tracks = track_aggregator(validation_labels)\n",
        "#test_tracks = track_aggregator(test_labels)"
      ],
      "execution_count": 0,
      "outputs": []
    },
    {
      "metadata": {
        "id": "g5MBi4_KuWre",
        "colab_type": "code",
        "colab": {}
      },
      "cell_type": "code",
      "source": [
        "# Our genre labels (should correspond for each row)\n",
        "train_genres = genre_multiplier(train_labels)\n",
        "validation_genres = genre_multiplier(validation_labels)\n",
        "test_genres = genre_multiplier(test_labels)"
      ],
      "execution_count": 0,
      "outputs": []
    },
    {
      "metadata": {
        "id": "Q8QxbvNQihGA",
        "colab_type": "code",
        "colab": {
          "base_uri": "https://localhost:8080/",
          "height": 153
        },
        "outputId": "56db1755-99e9-4a81-ba18-14efd27a53f3"
      },
      "cell_type": "code",
      "source": [
        "{label: test_genres.count(label) for label in set(test_genres)}"
      ],
      "execution_count": 21,
      "outputs": [
        {
          "output_type": "execute_result",
          "data": {
            "text/plain": [
              "{'Electronic': 130,\n",
              " 'Experimental': 110,\n",
              " 'Folk': 120,\n",
              " 'Hip-Hop': 90,\n",
              " 'Instrumental': 140,\n",
              " 'International': 110,\n",
              " 'Pop': 180,\n",
              " 'Rock': 120}"
            ]
          },
          "metadata": {
            "tags": []
          },
          "execution_count": 21
        }
      ]
    },
    {
      "metadata": {
        "id": "t_uxSiIZYv9K",
        "colab_type": "text"
      },
      "cell_type": "markdown",
      "source": [
        "### Cropping the dataset a bit to make it more convenient to use"
      ]
    },
    {
      "metadata": {
        "id": "s6s5Klsm5o99",
        "colab_type": "code",
        "outputId": "a104da91-8aa3-4486-fd43-7fd8c745c909",
        "colab": {
          "base_uri": "https://localhost:8080/",
          "height": 34
        }
      },
      "cell_type": "code",
      "source": [
        "train_tracks.shape"
      ],
      "execution_count": 22,
      "outputs": [
        {
          "output_type": "execute_result",
          "data": {
            "text/plain": [
              "(8000, 64, 258)"
            ]
          },
          "metadata": {
            "tags": []
          },
          "execution_count": 22
        }
      ]
    },
    {
      "metadata": {
        "id": "9v5pOoAm2_xR",
        "colab_type": "text"
      },
      "cell_type": "markdown",
      "source": [
        "Our 3-second tracks are comprised of $258$ NumPy columns. Out of convenience, we remove the last $2$ columns in order to have $256$ columns (power of $2$)."
      ]
    },
    {
      "metadata": {
        "id": "xl-FuJU8W67y",
        "colab_type": "code",
        "colab": {}
      },
      "cell_type": "code",
      "source": [
        "#turn 258 to 256, just cut the last two columns ~\n",
        "train_tracks_del = np.delete(train_tracks[:][:], range(256, train_tracks.shape[2]), axis=2)\n",
        "validation_tracks_del = np.delete(validation_tracks[:][:], range(256, validation_tracks.shape[2]), axis=2)\n",
        "test_tracks_del = np.delete(test_tracks[:][:], range(256, test_tracks.shape[2]), axis = 2)"
      ],
      "execution_count": 0,
      "outputs": []
    },
    {
      "metadata": {
        "id": "x8HK0GamY5G8",
        "colab_type": "code",
        "outputId": "75f1e10a-80f6-413f-f4bf-0efa6cee4e20",
        "colab": {
          "base_uri": "https://localhost:8080/",
          "height": 34
        }
      },
      "cell_type": "code",
      "source": [
        "train_tracks_del.shape"
      ],
      "execution_count": 24,
      "outputs": [
        {
          "output_type": "execute_result",
          "data": {
            "text/plain": [
              "(8000, 64, 256)"
            ]
          },
          "metadata": {
            "tags": []
          },
          "execution_count": 24
        }
      ]
    },
    {
      "metadata": {
        "id": "H7BaLuE7WGAP",
        "colab_type": "code",
        "outputId": "6c70aa49-9c7b-42e0-827a-a45113cd2a1d",
        "colab": {
          "base_uri": "https://localhost:8080/",
          "height": 34
        }
      },
      "cell_type": "code",
      "source": [
        "#convert genres to array \n",
        "type(train_genres)\n",
        "train_genres = np.asarray(train_genres)\n",
        "train_genres[2]"
      ],
      "execution_count": 25,
      "outputs": [
        {
          "output_type": "execute_result",
          "data": {
            "text/plain": [
              "'Folk'"
            ]
          },
          "metadata": {
            "tags": []
          },
          "execution_count": 25
        }
      ]
    },
    {
      "metadata": {
        "id": "-ah8lZkXWflT",
        "colab_type": "code",
        "colab": {}
      },
      "cell_type": "code",
      "source": [
        "np.savez_compressed('train', images=train_tracks_del, labels=train_genres)\n",
        "np.savez_compressed('validation', images=validation_tracks_del, labels=validation_genres)\n",
        "np.savez_compressed('test', images=test_tracks_del, labels=test_genres)"
      ],
      "execution_count": 0,
      "outputs": []
    },
    {
      "metadata": {
        "id": "TxAk3AgwcT-J",
        "colab_type": "text"
      },
      "cell_type": "markdown",
      "source": [
        "Form of the input: An image of dimension $64 \\times 256$, with a single channel (equivalent to black / white)"
      ]
    },
    {
      "metadata": {
        "id": "OjuUT1hI2kpX",
        "colab_type": "text"
      },
      "cell_type": "markdown",
      "source": [
        "### Preparing the specific input for the CNN"
      ]
    },
    {
      "metadata": {
        "id": "heZnGM_kdbCF",
        "colab_type": "code",
        "outputId": "e7f54206-2f91-48ee-f274-f4397711254c",
        "colab": {
          "base_uri": "https://localhost:8080/",
          "height": 34
        }
      },
      "cell_type": "code",
      "source": [
        "#vectorize the genre， convert string type labels to vectors\n",
        "from keras.utils import np_utils\n",
        "\n",
        "\n",
        "genres = np.unique(list(train_genres))\n",
        "genres_dict = dict([[label, value] for value, label in enumerate(genres)])\n",
        "G_numeric = np.asarray([genres_dict[label] for label in train_genres])\n",
        "G_vectorized = np_utils.to_categorical(G_numeric)"
      ],
      "execution_count": 27,
      "outputs": [
        {
          "output_type": "stream",
          "text": [
            "Using TensorFlow backend.\n"
          ],
          "name": "stderr"
        }
      ]
    },
    {
      "metadata": {
        "id": "6mWfEGpL3TwS",
        "colab_type": "text"
      },
      "cell_type": "markdown",
      "source": [
        "Tensors do not accept strings as inputs, so we transform them into integers instead."
      ]
    },
    {
      "metadata": {
        "id": "QjKuo0-hc1oj",
        "colab_type": "code",
        "colab": {}
      },
      "cell_type": "code",
      "source": [
        "genre_coding = {\n",
        "    'Electronic': 0,\n",
        "    'Experimental': 1,\n",
        "    'Folk': 2,\n",
        "    'Hip-Hop': 3,\n",
        "    'Instrumental': 4,\n",
        "    'International': 5,\n",
        "    'Pop': 6,\n",
        "    'Rock': 7\n",
        "}"
      ],
      "execution_count": 0,
      "outputs": []
    },
    {
      "metadata": {
        "id": "1sczwMOcdHk1",
        "colab_type": "code",
        "colab": {}
      },
      "cell_type": "code",
      "source": [
        "train_genres_num = np.array([genre_coding[genre] for genre in train_genres])\n",
        "validation_genres_num = np.array([genre_coding[genre] for genre in validation_genres])\n",
        "test_genres_num = np.array([genre_coding[genre] for genre in test_genres])"
      ],
      "execution_count": 0,
      "outputs": []
    },
    {
      "metadata": {
        "id": "lL1dl4ipVdOq",
        "colab_type": "code",
        "colab": {}
      },
      "cell_type": "code",
      "source": [
        "import torchvision.transforms as transforms\n",
        "train_dataset = [[torch.from_numpy(e.astype(np.float32)).unsqueeze(0), torch.from_numpy(np.array(l).astype(np.int64)).long()] for (e,l) in zip(train_tracks_del, train_genres_num)]\n",
        "validation_dataset = [[torch.from_numpy(e.astype(np.float32)).unsqueeze(0), torch.from_numpy(np.array(l).astype(np.int64)).long()] for (e,l) in zip(validation_tracks_del, validation_genres_num)]\n",
        "test_dataset = [[torch.from_numpy(e.astype(np.float32)).unsqueeze(0), torch.from_numpy(np.array(l).astype(np.int64)).long()] for (e,l) in zip(test_tracks_del, test_genres_num)]"
      ],
      "execution_count": 0,
      "outputs": []
    },
    {
      "metadata": {
        "id": "SryxnvAM7hLh",
        "colab_type": "text"
      },
      "cell_type": "markdown",
      "source": [
        "## CNN classifier"
      ]
    },
    {
      "metadata": {
        "id": "sweqMmFKZZXk",
        "colab_type": "text"
      },
      "cell_type": "markdown",
      "source": [
        "### Implement dataloader"
      ]
    },
    {
      "metadata": {
        "id": "zpvp6lSmc1Xt",
        "colab_type": "code",
        "colab": {}
      },
      "cell_type": "code",
      "source": [
        "bs=100\n",
        "train_loader = torch.utils.data.DataLoader(train_dataset,\n",
        "    batch_size=bs, shuffle=True)\n",
        "validation_loader = torch.utils.data.DataLoader(validation_dataset,\n",
        "    batch_size=bs, shuffle=True)\n",
        "test_loader = torch.utils.data.DataLoader(test_dataset,\n",
        "    batch_size=bs, shuffle=True)"
      ],
      "execution_count": 0,
      "outputs": []
    },
    {
      "metadata": {
        "id": "irdkEkmo9wIM",
        "colab_type": "code",
        "outputId": "1515b297-eee4-48fb-d4d1-920b67b7c777",
        "colab": {
          "base_uri": "https://localhost:8080/",
          "height": 51
        }
      },
      "cell_type": "code",
      "source": [
        "print(train_dataset[0][0].shape)\n",
        "print(train_dataset[0][1].shape)"
      ],
      "execution_count": 32,
      "outputs": [
        {
          "output_type": "stream",
          "text": [
            "torch.Size([1, 64, 256])\n",
            "torch.Size([])\n"
          ],
          "name": "stdout"
        }
      ]
    },
    {
      "metadata": {
        "id": "10tpfXCHgB-o",
        "colab_type": "text"
      },
      "cell_type": "markdown",
      "source": [
        "### Define a Convolutional Neural Network"
      ]
    },
    {
      "metadata": {
        "id": "DpOSmyq--ntH",
        "colab_type": "code",
        "colab": {}
      },
      "cell_type": "code",
      "source": [
        "#we use 1-channel image \n",
        "\n",
        "import torch.nn as nn \n",
        "import torch.nn.functional as F\n",
        "import torch.optim as optim\n",
        "\n",
        "class Net(nn.Module):\n",
        "    def __init__(self):\n",
        "        super(Net, self).__init__()\n",
        "        #64 3*3 filters with stride 1 \n",
        "        self.conv1 = nn.Conv2d(in_channels=1, out_channels=64, kernel_size=3, stride=1)\n",
        "        #max pooling 2*4\n",
        "        self.pool = nn.MaxPool2d(2, 4)\n",
        "        #64 3*5 filters with stride 1\n",
        "        self.conv2 = nn.Conv2d(in_channels=64, out_channels=64, kernel_size=(3,5), stride=1)\n",
        "        #max pooling 2*4\n",
        "        #dropout 0.2\n",
        "        self.dropout1 = nn.Dropout2d(p=0.2, inplace=False)\n",
        "        #fully connected layer 32 nerous to pervious ones \n",
        "        self.fc1 = nn.Linear(256 * 3 * 5, 32)\n",
        "        #dropout 0.2\n",
        "        self.dropout2 = nn.Dropout(p=0.2, inplace = False)\n",
        "        #output layers 8 nerous fully connected \n",
        "        self.fc2 = nn.Linear(32, 8)\n",
        "\n",
        "    def forward(self, x):\n",
        "        #print(x.shape)\n",
        "        x = self.pool(F.relu(self.conv1(x)))\n",
        "        #print(x.shape)\n",
        "        x = self.pool(F.relu(self.conv2(x)))\n",
        "        #print(x.shape)\n",
        "        x = self.dropout1(x)\n",
        "        #print(x.shape)\n",
        "        x = x.view(-1, 256 * 3 * 5)\n",
        "        #print(x.shape)\n",
        "        x = F.relu(self.fc1(x))\n",
        "        x = self.dropout2(x)\n",
        "        #print(x.shape)\n",
        "        x = F.softmax(self.fc2(x), 1)\n",
        "        return x\n"
      ],
      "execution_count": 0,
      "outputs": []
    },
    {
      "metadata": {
        "id": "EpURJEO2gvfM",
        "colab_type": "text"
      },
      "cell_type": "markdown",
      "source": [
        "### Define a loss function\n",
        "-  Cross-Entropy Loss "
      ]
    },
    {
      "metadata": {
        "id": "tr8DZgbcEPAn",
        "colab_type": "code",
        "colab": {}
      },
      "cell_type": "code",
      "source": [
        "criterion = nn.CrossEntropyLoss()"
      ],
      "execution_count": 0,
      "outputs": []
    },
    {
      "metadata": {
        "id": "XDxqWBejhBER",
        "colab_type": "text"
      },
      "cell_type": "markdown",
      "source": [
        "### Definition of the train function"
      ]
    },
    {
      "metadata": {
        "id": "V6UVLwFehDAS",
        "colab_type": "code",
        "colab": {}
      },
      "cell_type": "code",
      "source": [
        "def train_model(net = net, epochs = 2, bs = bs, validation = True, lr = 0.01):\n",
        "  \n",
        "  net.train()\n",
        "  optimizer = optim.SGD(net.parameters(), lr=lr, momentum=0.9)\n",
        "  start_time = time.time()\n",
        "\n",
        "  loss_train = np.zeros(epochs)\n",
        "  acc_train = np.zeros(epochs)\n",
        "  \n",
        "  loss_val = np.zeros(epochs)\n",
        "  acc_val = np.zeros(epochs)\n",
        "  \n",
        "  for epoch in range(epochs):  # loop over the dataset multiple times\n",
        "\n",
        "    print('Epoch %s – Time lapsed: %s' % (str(epoch), str(time.time() - start_time)))    \n",
        "    \n",
        "    running_loss = 0.0\n",
        "    running_corrects = 0.0\n",
        "    size = 0\n",
        "    \n",
        "    for i, data in enumerate(train_loader, 0):\n",
        "      # get the inputs\n",
        "      inputs, labels = data\n",
        "        \n",
        "      #print(labels.shape)\n",
        "      #print(i * bs)\n",
        "        \n",
        "      if use_gpu:\n",
        "        inputs.cuda()\n",
        "\n",
        "      # zero the parameter gradients\n",
        "      optimizer.zero_grad()\n",
        "\n",
        "      # forward + backward + optimize\n",
        "\n",
        "      outputs = net(inputs)\n",
        "      loss = criterion(outputs, labels)\n",
        "      loss.backward()\n",
        "      optimizer.step()\n",
        "        \n",
        "      pred = outputs.max(1, keepdim=True)[1]\n",
        "        \n",
        "      size += bs\n",
        "      running_loss += loss.item()\n",
        "      running_corrects += pred.eq(labels.view_as(pred)).sum()\n",
        "      \n",
        " \n",
        "        \n",
        "      #if i % 10 == 0:\n",
        "      #  print(i * bs)\n",
        "    \n",
        "      #if i > 5:\n",
        "      #  break\n",
        "        \n",
        "    epoch_loss = running_loss / size\n",
        "    epoch_acc = running_corrects.item() / size\n",
        "    loss_train[epoch] = epoch_loss\n",
        "    acc_train[epoch] = epoch_acc\n",
        "    \n",
        "    if validation == True:\n",
        "      correct = 0\n",
        "      total = 0\n",
        "\n",
        "      net.eval()\n",
        "\n",
        "      with torch.no_grad():\n",
        "        for val_i, val_data in enumerate(validation_loader):\n",
        "          val_images, val_labels = val_data\n",
        "          val_outputs = net(val_images)\n",
        "          _, predicted = torch.max(val_outputs.data, 1)\n",
        "          total += val_labels.size(0)\n",
        "          correct += (predicted == val_labels).sum().item()\n",
        "          \n",
        "        acc_val[epoch] = correct / total\n",
        "\n",
        "      print('Accuracy of the network on the validation tracks: %f' % (\n",
        "          correct / total))\n",
        "      \n",
        "      net.train()\n",
        "\n",
        "    \n",
        "    \n",
        "    \n",
        "    print('Train - Loss: {:.4f} Acc: {:.4f}\\n'.format(epoch_loss, epoch_acc))\n",
        "\n",
        "  print('Finished Training')\n",
        "  \n",
        "  return loss_train, acc_train, loss_val, acc_val"
      ],
      "execution_count": 0,
      "outputs": []
    },
    {
      "metadata": {
        "id": "nSscpBE_RIOJ",
        "colab_type": "text"
      },
      "cell_type": "markdown",
      "source": [
        "### Training the model"
      ]
    },
    {
      "metadata": {
        "id": "2wfRtuMARJH3",
        "colab_type": "code",
        "colab": {
          "base_uri": "https://localhost:8080/",
          "height": 34
        },
        "outputId": "969fa9a0-6be8-4aae-f0b8-582bf013a1de"
      },
      "cell_type": "code",
      "source": [
        "# Model definition\n",
        "net = Net()\n",
        "\n",
        "# If we have pre-trained parameters, we can load them here\n",
        "parameters_filename = 'SAVED_MODEL_2.pt'\n",
        "\n",
        "try:\n",
        "  net.load_state_dict(torch.load(parameters_filename))\n",
        "  print(\"Parameters loaded from %s\" % parameters_filename)\n",
        "  \n",
        "except FileNotFoundError:\n",
        "  print(\"Pre-trained parameters not found\")\n",
        "\n",
        "# Initialise parameters\n",
        "# for par in net.parameters():\n",
        "# par = torch.nn.init.normal_(par, mean=0, std=1)"
      ],
      "execution_count": 58,
      "outputs": [
        {
          "output_type": "stream",
          "text": [
            "Parameters loaded from SAVED_MODEL_2.pt\n"
          ],
          "name": "stdout"
        }
      ]
    },
    {
      "metadata": {
        "id": "R9WUKk0PRrAa",
        "colab_type": "code",
        "colab": {
          "base_uri": "https://localhost:8080/",
          "height": 130
        },
        "outputId": "cc20dac8-700f-413b-c43c-136ba7543311"
      },
      "cell_type": "code",
      "source": [
        "def trainer(learning_rates, model_save = None):\n",
        "  \n",
        "  \"\"\"\n",
        "  `learning_rates` should be a list where each element is a tuple of size two.\n",
        "    - The first element should be the learning rate,\n",
        "    - The second element should be the number of epochs the user wants for this\n",
        "      particular learning rate.\n",
        "  \"\"\"\n",
        "  \n",
        "  loss_train, acc_train, acc_val = [], [], []\n",
        "  \n",
        "  for \n",
        "  \n",
        "  loss_train, acc_train, loss_val, acc_val = train_model(net, 20, validation = True, lr = 0.05)\n",
        "  loss_train1, acc_train1, loss_val1, acc_val1 = train_model(net, 50, validation = True, lr = 0.01)\n",
        "  loss_train2, acc_train2, loss_val2, acc_val2 = train_model(net, 100, validation = True, lr = 0.001)\n",
        "  \n",
        "  loss_train = loss_train + loss_train1 + loss_train2\n",
        "  acc_train = acc_train + acc_train1 + acc_train2\n",
        "  loss_val = loss_val + loss_val1 + loss_val2\n",
        "  acc_val = acc_val + acc_val1 + acc_val2\n",
        "  \n",
        "  if model_save is not None:\n",
        "    torch.save(net.state_dict(), 'SAVED_MODEL_1.pt')\n",
        "  \n",
        "  return loss_train, acc_train, loss_val, acc_val\n",
        "  "
      ],
      "execution_count": 59,
      "outputs": [
        {
          "output_type": "error",
          "ename": "SyntaxError",
          "evalue": "ignored",
          "traceback": [
            "\u001b[0;36m  File \u001b[0;32m\"<ipython-input-59-8006887207de>\"\u001b[0;36m, line \u001b[0;32m12\u001b[0m\n\u001b[0;31m    for\u001b[0m\n\u001b[0m        ^\u001b[0m\n\u001b[0;31mSyntaxError\u001b[0m\u001b[0;31m:\u001b[0m invalid syntax\n"
          ]
        }
      ]
    },
    {
      "metadata": {
        "id": "BGJZqKNSooaI",
        "colab_type": "code",
        "outputId": "26829416-bb1f-49cd-997b-ddd543f1bf9b",
        "colab": {
          "base_uri": "https://localhost:8080/",
          "height": 2272
        }
      },
      "cell_type": "code",
      "source": [
        "loss_train, acc_train, loss_val, acc_val = trainer()"
      ],
      "execution_count": 53,
      "outputs": [
        {
          "output_type": "stream",
          "text": [
            "Epoch 0 – Time lapsed: 2.9087066650390625e-05\n",
            "Accuracy of the network on the validation tracks: 0.494000\n",
            "Train - Loss: 0.0184 Acc: 0.4319\n",
            "\n",
            "Epoch 1 – Time lapsed: 195.91151571273804\n",
            "Accuracy of the network on the validation tracks: 0.483000\n",
            "Train - Loss: 0.0183 Acc: 0.4449\n",
            "\n",
            "Epoch 2 – Time lapsed: 385.6105389595032\n",
            "Accuracy of the network on the validation tracks: 0.461000\n",
            "Train - Loss: 0.0182 Acc: 0.4504\n",
            "\n",
            "Epoch 3 – Time lapsed: 575.1992061138153\n",
            "Accuracy of the network on the validation tracks: 0.464000\n",
            "Train - Loss: 0.0182 Acc: 0.4535\n",
            "\n",
            "Epoch 4 – Time lapsed: 764.1491723060608\n",
            "Accuracy of the network on the validation tracks: 0.469000\n",
            "Train - Loss: 0.0180 Acc: 0.4639\n",
            "\n",
            "Epoch 5 – Time lapsed: 952.7196931838989\n",
            "Accuracy of the network on the validation tracks: 0.475000\n",
            "Train - Loss: 0.0179 Acc: 0.4814\n",
            "\n",
            "Epoch 6 – Time lapsed: 1142.895940542221\n",
            "Accuracy of the network on the validation tracks: 0.421000\n",
            "Train - Loss: 0.0179 Acc: 0.4819\n",
            "\n",
            "Epoch 7 – Time lapsed: 1332.749092578888\n",
            "Accuracy of the network on the validation tracks: 0.448000\n",
            "Train - Loss: 0.0178 Acc: 0.4910\n",
            "\n",
            "Epoch 8 – Time lapsed: 1523.3098940849304\n",
            "Accuracy of the network on the validation tracks: 0.452000\n",
            "Train - Loss: 0.0178 Acc: 0.4944\n",
            "\n",
            "Epoch 9 – Time lapsed: 1712.9019396305084\n",
            "Accuracy of the network on the validation tracks: 0.442000\n",
            "Train - Loss: 0.0177 Acc: 0.5045\n",
            "\n",
            "Epoch 10 – Time lapsed: 1902.7191290855408\n",
            "Accuracy of the network on the validation tracks: 0.431000\n",
            "Train - Loss: 0.0176 Acc: 0.5062\n",
            "\n",
            "Epoch 11 – Time lapsed: 2093.951164960861\n",
            "Accuracy of the network on the validation tracks: 0.456000\n",
            "Train - Loss: 0.0176 Acc: 0.5084\n",
            "\n",
            "Epoch 12 – Time lapsed: 2284.1431369781494\n",
            "Accuracy of the network on the validation tracks: 0.451000\n",
            "Train - Loss: 0.0175 Acc: 0.5268\n",
            "\n",
            "Epoch 13 – Time lapsed: 2471.9955263137817\n",
            "Accuracy of the network on the validation tracks: 0.442000\n",
            "Train - Loss: 0.0174 Acc: 0.5399\n",
            "\n",
            "Epoch 14 – Time lapsed: 2661.5980780124664\n",
            "Accuracy of the network on the validation tracks: 0.450000\n",
            "Train - Loss: 0.0173 Acc: 0.5424\n",
            "\n",
            "Epoch 15 – Time lapsed: 2850.9998304843903\n",
            "Accuracy of the network on the validation tracks: 0.439000\n",
            "Train - Loss: 0.0172 Acc: 0.5475\n",
            "\n",
            "Epoch 16 – Time lapsed: 3041.769539833069\n",
            "Accuracy of the network on the validation tracks: 0.413000\n",
            "Train - Loss: 0.0172 Acc: 0.5595\n",
            "\n",
            "Epoch 17 – Time lapsed: 3231.9586250782013\n",
            "Accuracy of the network on the validation tracks: 0.444000\n",
            "Train - Loss: 0.0172 Acc: 0.5509\n",
            "\n",
            "Epoch 18 – Time lapsed: 3422.426315307617\n",
            "Accuracy of the network on the validation tracks: 0.436000\n",
            "Train - Loss: 0.0171 Acc: 0.5613\n",
            "\n",
            "Epoch 19 – Time lapsed: 3614.5852925777435\n",
            "Accuracy of the network on the validation tracks: 0.428000\n",
            "Train - Loss: 0.0171 Acc: 0.5586\n",
            "\n",
            "Finished Training\n",
            "Epoch 0 – Time lapsed: 1.6450881958007812e-05\n"
          ],
          "name": "stdout"
        },
        {
          "output_type": "error",
          "ename": "KeyboardInterrupt",
          "evalue": "ignored",
          "traceback": [
            "\u001b[0;31m---------------------------------------------------------------------------\u001b[0m",
            "\u001b[0;31mKeyboardInterrupt\u001b[0m                         Traceback (most recent call last)",
            "\u001b[0;32m<ipython-input-53-4842cd15a0ac>\u001b[0m in \u001b[0;36m<module>\u001b[0;34m()\u001b[0m\n\u001b[0;32m----> 1\u001b[0;31m \u001b[0mloss_train\u001b[0m\u001b[0;34m,\u001b[0m \u001b[0macc_train\u001b[0m\u001b[0;34m,\u001b[0m \u001b[0mloss_val\u001b[0m\u001b[0;34m,\u001b[0m \u001b[0macc_val\u001b[0m \u001b[0;34m=\u001b[0m \u001b[0mtrainer\u001b[0m\u001b[0;34m(\u001b[0m\u001b[0;34m)\u001b[0m\u001b[0;34m\u001b[0m\u001b[0m\n\u001b[0m",
            "\u001b[0;32m<ipython-input-38-87276e99c32a>\u001b[0m in \u001b[0;36mtrainer\u001b[0;34m(model_save)\u001b[0m\n\u001b[1;32m      2\u001b[0m \u001b[0;34m\u001b[0m\u001b[0m\n\u001b[1;32m      3\u001b[0m   \u001b[0mloss_train\u001b[0m\u001b[0;34m,\u001b[0m \u001b[0macc_train\u001b[0m\u001b[0;34m,\u001b[0m \u001b[0mloss_val\u001b[0m\u001b[0;34m,\u001b[0m \u001b[0macc_val\u001b[0m \u001b[0;34m=\u001b[0m \u001b[0mtrain_model\u001b[0m\u001b[0;34m(\u001b[0m\u001b[0mnet\u001b[0m\u001b[0;34m,\u001b[0m \u001b[0;36m20\u001b[0m\u001b[0;34m,\u001b[0m \u001b[0mvalidation\u001b[0m \u001b[0;34m=\u001b[0m \u001b[0;32mTrue\u001b[0m\u001b[0;34m,\u001b[0m \u001b[0mlr\u001b[0m \u001b[0;34m=\u001b[0m \u001b[0;36m0.05\u001b[0m\u001b[0;34m)\u001b[0m\u001b[0;34m\u001b[0m\u001b[0m\n\u001b[0;32m----> 4\u001b[0;31m   \u001b[0mloss_train1\u001b[0m\u001b[0;34m,\u001b[0m \u001b[0macc_train1\u001b[0m\u001b[0;34m,\u001b[0m \u001b[0mloss_val1\u001b[0m\u001b[0;34m,\u001b[0m \u001b[0macc_val1\u001b[0m \u001b[0;34m=\u001b[0m \u001b[0mtrain_model\u001b[0m\u001b[0;34m(\u001b[0m\u001b[0mnet\u001b[0m\u001b[0;34m,\u001b[0m \u001b[0;36m50\u001b[0m\u001b[0;34m,\u001b[0m \u001b[0mvalidation\u001b[0m \u001b[0;34m=\u001b[0m \u001b[0;32mTrue\u001b[0m\u001b[0;34m,\u001b[0m \u001b[0mlr\u001b[0m \u001b[0;34m=\u001b[0m \u001b[0;36m0.01\u001b[0m\u001b[0;34m)\u001b[0m\u001b[0;34m\u001b[0m\u001b[0m\n\u001b[0m\u001b[1;32m      5\u001b[0m   \u001b[0mloss_train2\u001b[0m\u001b[0;34m,\u001b[0m \u001b[0macc_train2\u001b[0m\u001b[0;34m,\u001b[0m \u001b[0mloss_val2\u001b[0m\u001b[0;34m,\u001b[0m \u001b[0macc_val2\u001b[0m \u001b[0;34m=\u001b[0m \u001b[0mtrain_model\u001b[0m\u001b[0;34m(\u001b[0m\u001b[0mnet\u001b[0m\u001b[0;34m,\u001b[0m \u001b[0;36m100\u001b[0m\u001b[0;34m,\u001b[0m \u001b[0mvalidation\u001b[0m \u001b[0;34m=\u001b[0m \u001b[0;32mTrue\u001b[0m\u001b[0;34m,\u001b[0m \u001b[0mlr\u001b[0m \u001b[0;34m=\u001b[0m \u001b[0;36m0.001\u001b[0m\u001b[0;34m)\u001b[0m\u001b[0;34m\u001b[0m\u001b[0m\n\u001b[1;32m      6\u001b[0m \u001b[0;34m\u001b[0m\u001b[0m\n",
            "\u001b[0;32m<ipython-input-36-97a5ac8e1982>\u001b[0m in \u001b[0;36mtrain_model\u001b[0;34m(net, epochs, bs, validation, lr)\u001b[0m\n\u001b[1;32m     34\u001b[0m       \u001b[0;31m# forward + backward + optimize\u001b[0m\u001b[0;34m\u001b[0m\u001b[0;34m\u001b[0m\u001b[0m\n\u001b[1;32m     35\u001b[0m \u001b[0;34m\u001b[0m\u001b[0m\n\u001b[0;32m---> 36\u001b[0;31m       \u001b[0moutputs\u001b[0m \u001b[0;34m=\u001b[0m \u001b[0mnet\u001b[0m\u001b[0;34m(\u001b[0m\u001b[0minputs\u001b[0m\u001b[0;34m)\u001b[0m\u001b[0;34m\u001b[0m\u001b[0m\n\u001b[0m\u001b[1;32m     37\u001b[0m       \u001b[0mloss\u001b[0m \u001b[0;34m=\u001b[0m \u001b[0mcriterion\u001b[0m\u001b[0;34m(\u001b[0m\u001b[0moutputs\u001b[0m\u001b[0;34m,\u001b[0m \u001b[0mlabels\u001b[0m\u001b[0;34m)\u001b[0m\u001b[0;34m\u001b[0m\u001b[0m\n\u001b[1;32m     38\u001b[0m       \u001b[0mloss\u001b[0m\u001b[0;34m.\u001b[0m\u001b[0mbackward\u001b[0m\u001b[0;34m(\u001b[0m\u001b[0;34m)\u001b[0m\u001b[0;34m\u001b[0m\u001b[0m\n",
            "\u001b[0;32m/usr/local/lib/python3.6/dist-packages/torch/nn/modules/module.py\u001b[0m in \u001b[0;36m__call__\u001b[0;34m(self, *input, **kwargs)\u001b[0m\n\u001b[1;32m    475\u001b[0m             \u001b[0mresult\u001b[0m \u001b[0;34m=\u001b[0m \u001b[0mself\u001b[0m\u001b[0;34m.\u001b[0m\u001b[0m_slow_forward\u001b[0m\u001b[0;34m(\u001b[0m\u001b[0;34m*\u001b[0m\u001b[0minput\u001b[0m\u001b[0;34m,\u001b[0m \u001b[0;34m**\u001b[0m\u001b[0mkwargs\u001b[0m\u001b[0;34m)\u001b[0m\u001b[0;34m\u001b[0m\u001b[0m\n\u001b[1;32m    476\u001b[0m         \u001b[0;32melse\u001b[0m\u001b[0;34m:\u001b[0m\u001b[0;34m\u001b[0m\u001b[0m\n\u001b[0;32m--> 477\u001b[0;31m             \u001b[0mresult\u001b[0m \u001b[0;34m=\u001b[0m \u001b[0mself\u001b[0m\u001b[0;34m.\u001b[0m\u001b[0mforward\u001b[0m\u001b[0;34m(\u001b[0m\u001b[0;34m*\u001b[0m\u001b[0minput\u001b[0m\u001b[0;34m,\u001b[0m \u001b[0;34m**\u001b[0m\u001b[0mkwargs\u001b[0m\u001b[0;34m)\u001b[0m\u001b[0;34m\u001b[0m\u001b[0m\n\u001b[0m\u001b[1;32m    478\u001b[0m         \u001b[0;32mfor\u001b[0m \u001b[0mhook\u001b[0m \u001b[0;32min\u001b[0m \u001b[0mself\u001b[0m\u001b[0;34m.\u001b[0m\u001b[0m_forward_hooks\u001b[0m\u001b[0;34m.\u001b[0m\u001b[0mvalues\u001b[0m\u001b[0;34m(\u001b[0m\u001b[0;34m)\u001b[0m\u001b[0;34m:\u001b[0m\u001b[0;34m\u001b[0m\u001b[0m\n\u001b[1;32m    479\u001b[0m             \u001b[0mhook_result\u001b[0m \u001b[0;34m=\u001b[0m \u001b[0mhook\u001b[0m\u001b[0;34m(\u001b[0m\u001b[0mself\u001b[0m\u001b[0;34m,\u001b[0m \u001b[0minput\u001b[0m\u001b[0;34m,\u001b[0m \u001b[0mresult\u001b[0m\u001b[0;34m)\u001b[0m\u001b[0;34m\u001b[0m\u001b[0m\n",
            "\u001b[0;32m<ipython-input-33-6885a3374bd9>\u001b[0m in \u001b[0;36mforward\u001b[0;34m(self, x)\u001b[0m\n\u001b[1;32m     27\u001b[0m         \u001b[0mx\u001b[0m \u001b[0;34m=\u001b[0m \u001b[0mself\u001b[0m\u001b[0;34m.\u001b[0m\u001b[0mpool\u001b[0m\u001b[0;34m(\u001b[0m\u001b[0mF\u001b[0m\u001b[0;34m.\u001b[0m\u001b[0mrelu\u001b[0m\u001b[0;34m(\u001b[0m\u001b[0mself\u001b[0m\u001b[0;34m.\u001b[0m\u001b[0mconv1\u001b[0m\u001b[0;34m(\u001b[0m\u001b[0mx\u001b[0m\u001b[0;34m)\u001b[0m\u001b[0;34m)\u001b[0m\u001b[0;34m)\u001b[0m\u001b[0;34m\u001b[0m\u001b[0m\n\u001b[1;32m     28\u001b[0m         \u001b[0;31m#print(x.shape)\u001b[0m\u001b[0;34m\u001b[0m\u001b[0;34m\u001b[0m\u001b[0m\n\u001b[0;32m---> 29\u001b[0;31m         \u001b[0mx\u001b[0m \u001b[0;34m=\u001b[0m \u001b[0mself\u001b[0m\u001b[0;34m.\u001b[0m\u001b[0mpool\u001b[0m\u001b[0;34m(\u001b[0m\u001b[0mF\u001b[0m\u001b[0;34m.\u001b[0m\u001b[0mrelu\u001b[0m\u001b[0;34m(\u001b[0m\u001b[0mself\u001b[0m\u001b[0;34m.\u001b[0m\u001b[0mconv2\u001b[0m\u001b[0;34m(\u001b[0m\u001b[0mx\u001b[0m\u001b[0;34m)\u001b[0m\u001b[0;34m)\u001b[0m\u001b[0;34m)\u001b[0m\u001b[0;34m\u001b[0m\u001b[0m\n\u001b[0m\u001b[1;32m     30\u001b[0m         \u001b[0;31m#print(x.shape)\u001b[0m\u001b[0;34m\u001b[0m\u001b[0;34m\u001b[0m\u001b[0m\n\u001b[1;32m     31\u001b[0m         \u001b[0mx\u001b[0m \u001b[0;34m=\u001b[0m \u001b[0mself\u001b[0m\u001b[0;34m.\u001b[0m\u001b[0mdropout1\u001b[0m\u001b[0;34m(\u001b[0m\u001b[0mx\u001b[0m\u001b[0;34m)\u001b[0m\u001b[0;34m\u001b[0m\u001b[0m\n",
            "\u001b[0;32m/usr/local/lib/python3.6/dist-packages/torch/nn/modules/module.py\u001b[0m in \u001b[0;36m__call__\u001b[0;34m(self, *input, **kwargs)\u001b[0m\n\u001b[1;32m    475\u001b[0m             \u001b[0mresult\u001b[0m \u001b[0;34m=\u001b[0m \u001b[0mself\u001b[0m\u001b[0;34m.\u001b[0m\u001b[0m_slow_forward\u001b[0m\u001b[0;34m(\u001b[0m\u001b[0;34m*\u001b[0m\u001b[0minput\u001b[0m\u001b[0;34m,\u001b[0m \u001b[0;34m**\u001b[0m\u001b[0mkwargs\u001b[0m\u001b[0;34m)\u001b[0m\u001b[0;34m\u001b[0m\u001b[0m\n\u001b[1;32m    476\u001b[0m         \u001b[0;32melse\u001b[0m\u001b[0;34m:\u001b[0m\u001b[0;34m\u001b[0m\u001b[0m\n\u001b[0;32m--> 477\u001b[0;31m             \u001b[0mresult\u001b[0m \u001b[0;34m=\u001b[0m \u001b[0mself\u001b[0m\u001b[0;34m.\u001b[0m\u001b[0mforward\u001b[0m\u001b[0;34m(\u001b[0m\u001b[0;34m*\u001b[0m\u001b[0minput\u001b[0m\u001b[0;34m,\u001b[0m \u001b[0;34m**\u001b[0m\u001b[0mkwargs\u001b[0m\u001b[0;34m)\u001b[0m\u001b[0;34m\u001b[0m\u001b[0m\n\u001b[0m\u001b[1;32m    478\u001b[0m         \u001b[0;32mfor\u001b[0m \u001b[0mhook\u001b[0m \u001b[0;32min\u001b[0m \u001b[0mself\u001b[0m\u001b[0;34m.\u001b[0m\u001b[0m_forward_hooks\u001b[0m\u001b[0;34m.\u001b[0m\u001b[0mvalues\u001b[0m\u001b[0;34m(\u001b[0m\u001b[0;34m)\u001b[0m\u001b[0;34m:\u001b[0m\u001b[0;34m\u001b[0m\u001b[0m\n\u001b[1;32m    479\u001b[0m             \u001b[0mhook_result\u001b[0m \u001b[0;34m=\u001b[0m \u001b[0mhook\u001b[0m\u001b[0;34m(\u001b[0m\u001b[0mself\u001b[0m\u001b[0;34m,\u001b[0m \u001b[0minput\u001b[0m\u001b[0;34m,\u001b[0m \u001b[0mresult\u001b[0m\u001b[0;34m)\u001b[0m\u001b[0;34m\u001b[0m\u001b[0m\n",
            "\u001b[0;32m/usr/local/lib/python3.6/dist-packages/torch/nn/modules/conv.py\u001b[0m in \u001b[0;36mforward\u001b[0;34m(self, input)\u001b[0m\n\u001b[1;32m    299\u001b[0m     \u001b[0;32mdef\u001b[0m \u001b[0mforward\u001b[0m\u001b[0;34m(\u001b[0m\u001b[0mself\u001b[0m\u001b[0;34m,\u001b[0m \u001b[0minput\u001b[0m\u001b[0;34m)\u001b[0m\u001b[0;34m:\u001b[0m\u001b[0;34m\u001b[0m\u001b[0m\n\u001b[1;32m    300\u001b[0m         return F.conv2d(input, self.weight, self.bias, self.stride,\n\u001b[0;32m--> 301\u001b[0;31m                         self.padding, self.dilation, self.groups)\n\u001b[0m\u001b[1;32m    302\u001b[0m \u001b[0;34m\u001b[0m\u001b[0m\n\u001b[1;32m    303\u001b[0m \u001b[0;34m\u001b[0m\u001b[0m\n",
            "\u001b[0;31mKeyboardInterrupt\u001b[0m: "
          ]
        }
      ]
    },
    {
      "metadata": {
        "id": "SdaMcCTffuK0",
        "colab_type": "code",
        "colab": {}
      },
      "cell_type": "code",
      "source": [
        "def test_model(data_loader = test_loader, net = net):\n",
        "  \n",
        "  correct = 0\n",
        "  total = 0\n",
        "\n",
        "  net.eval()\n",
        "\n",
        "  with torch.no_grad():\n",
        "    for i, data in enumerate(data_loader):\n",
        "      images, labels = data\n",
        "      outputs = net(images)\n",
        "      _, predicted = torch.max(outputs.data, 1)\n",
        "      total += labels.size(0)\n",
        "      correct += (predicted == labels).sum().item()\n",
        "\n",
        "  print('Accuracy of the network on the test tracks: %f %%' % (correct / total))\n",
        "  return correct/total"
      ],
      "execution_count": 0,
      "outputs": []
    },
    {
      "metadata": {
        "id": "yFl29Jq-n7yY",
        "colab_type": "code",
        "colab": {
          "base_uri": "https://localhost:8080/",
          "height": 51
        },
        "outputId": "136a1613-3b1a-4539-90bb-9982b77c219d"
      },
      "cell_type": "code",
      "source": [
        "test_model(data_loader = test_loader)"
      ],
      "execution_count": 61,
      "outputs": [
        {
          "output_type": "stream",
          "text": [
            "Accuracy of the network on the test tracks: 0.457000 %\n"
          ],
          "name": "stdout"
        },
        {
          "output_type": "execute_result",
          "data": {
            "text/plain": [
              "0.457"
            ]
          },
          "metadata": {
            "tags": []
          },
          "execution_count": 61
        }
      ]
    },
    {
      "metadata": {
        "id": "PN__bcgwfmFM",
        "colab_type": "code",
        "outputId": "6dfac1ab-8f9f-4916-ac8e-a52f7035d9b4",
        "colab": {
          "base_uri": "https://localhost:8080/",
          "height": 153
        }
      },
      "cell_type": "code",
      "source": [
        "class_correct = list(0. for i in range(8))\n",
        "class_total = list(0. for i in range(8))\n",
        "with torch.no_grad():\n",
        "    for data in test_loader:\n",
        "        images, labels = data\n",
        "        outputs = net(images)\n",
        "        _, predicted = torch.max(outputs, 1)\n",
        "        c = (predicted == labels).squeeze()\n",
        "        for i in range(4):\n",
        "            label = labels[i]\n",
        "            class_correct[label] += c[i].item()\n",
        "            class_total[label] += 1\n",
        "\n",
        "\n",
        "for i in range(8):\n",
        "    print('Accuracy of %5s : %2d %%' % (\n",
        "        genres[i], 100 * class_correct[i] / class_total[i]))"
      ],
      "execution_count": 63,
      "outputs": [
        {
          "output_type": "stream",
          "text": [
            "Accuracy of Electronic : 25 %\n",
            "Accuracy of Experimental : 50 %\n",
            "Accuracy of  Folk : 75 %\n",
            "Accuracy of Hip-Hop : 80 %\n",
            "Accuracy of Instrumental : 40 %\n",
            "Accuracy of International : 50 %\n",
            "Accuracy of   Pop :  0 %\n",
            "Accuracy of  Rock : 33 %\n"
          ],
          "name": "stdout"
        }
      ]
    },
    {
      "metadata": {
        "id": "9Jv4nmMw44f5",
        "colab_type": "code",
        "colab": {}
      },
      "cell_type": "code",
      "source": [
        ""
      ],
      "execution_count": 0,
      "outputs": []
    }
  ]
}