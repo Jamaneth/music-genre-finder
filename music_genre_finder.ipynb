{
  "nbformat": 4,
  "nbformat_minor": 0,
  "metadata": {
    "colab": {
      "name": "music_genre_finder.ipynb",
      "version": "0.3.2",
      "provenance": [],
      "collapsed_sections": [],
      "toc_visible": true
    },
    "kernelspec": {
      "name": "python3",
      "display_name": "Python 3"
    }
  },
  "cells": [
    {
      "metadata": {
        "id": "c1Yfss4KLJi9",
        "colab_type": "text"
      },
      "cell_type": "markdown",
      "source": [
        "# Predicting music genre using Convolutional Neural Networks"
      ]
    },
    {
      "metadata": {
        "id": "cZ6Td7ysMTVC",
        "colab_type": "text"
      },
      "cell_type": "markdown",
      "source": [
        "## Description of the dataset"
      ]
    },
    {
      "metadata": {
        "id": "TXNJdEc-Me2l",
        "colab_type": "text"
      },
      "cell_type": "markdown",
      "source": [
        "The dataset we will be using in this notebook comes from a dump of the Free Music Archive (FMA), available [in this Github repository](https://github.com/mdeff/fma). The complete description of this project may be found [in this paper](https://arxiv.org/abs/1612.01840).\n",
        "\n",
        "To summarise, whole dataset is comprised of 106,574 of Creative Commons-licenced tracks from 16,341 artists and 14,854 albums, arranged in a hierarchical structure of 161 genres. However, in this notebook, we will be focusing on a **smaller subset** of this initial dataset: the dataset we will be focusing on will be comprised of **$8,000$ 30 second clips**. Those clipe belong to 8 top genres, balanced with $1,000$ clips per genre.\n",
        "\n",
        "Our goal in this notebook will be to classify the genre of an unknown track among the 8 genres that are present in our dataset."
      ]
    },
    {
      "metadata": {
        "id": "bnDLmzTNMbvM",
        "colab_type": "text"
      },
      "cell_type": "markdown",
      "source": [
        "## Downloading the dataset"
      ]
    },
    {
      "metadata": {
        "id": "A4QR9l1bLk31",
        "colab_type": "text"
      },
      "cell_type": "markdown",
      "source": [
        "First of all, let's download the data that we will be using. Since the files are quite heavy (>7 GB in total), we download in the Jupyter Notebook instead of having them directly. We then unzip the content of the files.\n",
        "\n",
        "The whole dataset is entirely in the cloud, so it removes constraints about data space or anything.\n",
        "\n",
        "**Note: Please note that the whole process may be a bit long (~15 minutes).**\n"
      ]
    },
    {
      "metadata": {
        "id": "WlCGukvpJbo9",
        "colab_type": "code",
        "colab": {
          "base_uri": "https://localhost:8080/",
          "height": 150
        },
        "outputId": "48d03c7c-4cca-41b8-8f03-4b0e6a9fefac"
      },
      "cell_type": "code",
      "source": [
        "!curl -O https://os.unil.cloud.switch.ch/fma/fma_metadata.zip\n",
        "!curl -O https://os.unil.cloud.switch.ch/fma/fma_small.zip"
      ],
      "execution_count": 4,
      "outputs": [
        {
          "output_type": "stream",
          "text": [
            "  % Total    % Received % Xferd  Average Speed   Time    Time     Time  Current\n",
            "                                 Dload  Upload   Total   Spent    Left  Speed\n",
            "100  341M  100  341M    0     0  23.5M      0  0:00:14  0:00:14 --:--:-- 25.7M\n",
            "  % Total    % Received % Xferd  Average Speed   Time    Time     Time  Current\n",
            "                                 Dload  Upload   Total   Spent    Left  Speed\n",
            "100 7323M  100 7323M    0     0  25.4M      0  0:04:47  0:04:47 --:--:-- 25.7M\n"
          ],
          "name": "stdout"
        }
      ]
    },
    {
      "metadata": {
        "id": "fpd3AEmzKa8F",
        "colab_type": "code",
        "colab": {}
      },
      "cell_type": "code",
      "source": [
        "!unzip fma_metadata.zip\n",
        "!unzip fma_small.zip"
      ],
      "execution_count": 0,
      "outputs": []
    },
    {
      "metadata": {
        "id": "gq2jhkfIKFyE",
        "colab_type": "text"
      },
      "cell_type": "markdown",
      "source": [
        "First of all, let's download the data that we will be using. Since the files are quite heavy (>7 GB in total), we download in the Jupyter Notebook instead of having them directly."
      ]
    },
    {
      "metadata": {
        "id": "AEE9HvT6QnRN",
        "colab_type": "text"
      },
      "cell_type": "markdown",
      "source": [
        "## Data exploration"
      ]
    },
    {
      "metadata": {
        "id": "cogLaiLHQoD_",
        "colab_type": "code",
        "colab": {}
      },
      "cell_type": "code",
      "source": [
        "import pandas as pd\n",
        "import numpy as np\n",
        "import os"
      ],
      "execution_count": 0,
      "outputs": []
    },
    {
      "metadata": {
        "id": "6q8ssdluV5ma",
        "colab_type": "text"
      },
      "cell_type": "markdown",
      "source": [
        "The full information about the tracks, including the genre, can be found in the file `tracks.csv`. As for the genre, the according code can be retrieved in the file `genres.csv`."
      ]
    },
    {
      "metadata": {
        "id": "GkPkeViTTYc6",
        "colab_type": "code",
        "colab": {
          "base_uri": "https://localhost:8080/",
          "height": 76
        },
        "outputId": "10c17b81-bb71-4704-dad2-5b4cd5e1a596"
      },
      "cell_type": "code",
      "source": [
        "genres = pd.read_csv('/content/fma_metadata/genres.csv')\n",
        "tracks = pd.read_csv('/content/fma_metadata/tracks.csv')"
      ],
      "execution_count": 116,
      "outputs": [
        {
          "output_type": "stream",
          "text": [
            "/usr/local/lib/python3.6/dist-packages/IPython/core/interactiveshell.py:2718: DtypeWarning: Columns (0,1,5,6,8,12,18,20,21,22,24,33,34,38,39,44,47,49) have mixed types. Specify dtype option on import or set low_memory=False.\n",
            "  interactivity=interactivity, compiler=compiler, result=result)\n"
          ],
          "name": "stderr"
        }
      ]
    },
    {
      "metadata": {
        "id": "Q4SU1KynVs1d",
        "colab_type": "code",
        "colab": {
          "base_uri": "https://localhost:8080/",
          "height": 923
        },
        "outputId": "7d94cc41-d423-402f-d3c0-c8a95f0ee79a"
      },
      "cell_type": "code",
      "source": [
        "# The first two lines are a bit buggy, so we remove them \n",
        "tracks.columns = [\"track_id\"] + list(tracks.iloc[0])[1:]\n",
        "tracks = tracks.drop(tracks.index[[0,1]])\n",
        "tracks = tracks.reset_index()\n",
        "tracks[:5]"
      ],
      "execution_count": 117,
      "outputs": [
        {
          "output_type": "execute_result",
          "data": {
            "text/html": [
              "<div>\n",
              "<style scoped>\n",
              "    .dataframe tbody tr th:only-of-type {\n",
              "        vertical-align: middle;\n",
              "    }\n",
              "\n",
              "    .dataframe tbody tr th {\n",
              "        vertical-align: top;\n",
              "    }\n",
              "\n",
              "    .dataframe thead th {\n",
              "        text-align: right;\n",
              "    }\n",
              "</style>\n",
              "<table border=\"1\" class=\"dataframe\">\n",
              "  <thead>\n",
              "    <tr style=\"text-align: right;\">\n",
              "      <th></th>\n",
              "      <th>index</th>\n",
              "      <th>track_id</th>\n",
              "      <th>comments</th>\n",
              "      <th>date_created</th>\n",
              "      <th>date_released</th>\n",
              "      <th>engineer</th>\n",
              "      <th>favorites</th>\n",
              "      <th>id</th>\n",
              "      <th>information</th>\n",
              "      <th>listens</th>\n",
              "      <th>...</th>\n",
              "      <th>information</th>\n",
              "      <th>interest</th>\n",
              "      <th>language_code</th>\n",
              "      <th>license</th>\n",
              "      <th>listens</th>\n",
              "      <th>lyricist</th>\n",
              "      <th>number</th>\n",
              "      <th>publisher</th>\n",
              "      <th>tags</th>\n",
              "      <th>title</th>\n",
              "    </tr>\n",
              "  </thead>\n",
              "  <tbody>\n",
              "    <tr>\n",
              "      <th>0</th>\n",
              "      <td>2</td>\n",
              "      <td>2</td>\n",
              "      <td>0</td>\n",
              "      <td>2008-11-26 01:44:45</td>\n",
              "      <td>2009-01-05 00:00:00</td>\n",
              "      <td>NaN</td>\n",
              "      <td>4</td>\n",
              "      <td>1</td>\n",
              "      <td>&lt;p&gt;&lt;/p&gt;</td>\n",
              "      <td>6073</td>\n",
              "      <td>...</td>\n",
              "      <td>NaN</td>\n",
              "      <td>4656</td>\n",
              "      <td>en</td>\n",
              "      <td>Attribution-NonCommercial-ShareAlike 3.0 Inter...</td>\n",
              "      <td>1293</td>\n",
              "      <td>NaN</td>\n",
              "      <td>3</td>\n",
              "      <td>NaN</td>\n",
              "      <td>[]</td>\n",
              "      <td>Food</td>\n",
              "    </tr>\n",
              "    <tr>\n",
              "      <th>1</th>\n",
              "      <td>3</td>\n",
              "      <td>3</td>\n",
              "      <td>0</td>\n",
              "      <td>2008-11-26 01:44:45</td>\n",
              "      <td>2009-01-05 00:00:00</td>\n",
              "      <td>NaN</td>\n",
              "      <td>4</td>\n",
              "      <td>1</td>\n",
              "      <td>&lt;p&gt;&lt;/p&gt;</td>\n",
              "      <td>6073</td>\n",
              "      <td>...</td>\n",
              "      <td>NaN</td>\n",
              "      <td>1470</td>\n",
              "      <td>en</td>\n",
              "      <td>Attribution-NonCommercial-ShareAlike 3.0 Inter...</td>\n",
              "      <td>514</td>\n",
              "      <td>NaN</td>\n",
              "      <td>4</td>\n",
              "      <td>NaN</td>\n",
              "      <td>[]</td>\n",
              "      <td>Electric Ave</td>\n",
              "    </tr>\n",
              "    <tr>\n",
              "      <th>2</th>\n",
              "      <td>4</td>\n",
              "      <td>5</td>\n",
              "      <td>0</td>\n",
              "      <td>2008-11-26 01:44:45</td>\n",
              "      <td>2009-01-05 00:00:00</td>\n",
              "      <td>NaN</td>\n",
              "      <td>4</td>\n",
              "      <td>1</td>\n",
              "      <td>&lt;p&gt;&lt;/p&gt;</td>\n",
              "      <td>6073</td>\n",
              "      <td>...</td>\n",
              "      <td>NaN</td>\n",
              "      <td>1933</td>\n",
              "      <td>en</td>\n",
              "      <td>Attribution-NonCommercial-ShareAlike 3.0 Inter...</td>\n",
              "      <td>1151</td>\n",
              "      <td>NaN</td>\n",
              "      <td>6</td>\n",
              "      <td>NaN</td>\n",
              "      <td>[]</td>\n",
              "      <td>This World</td>\n",
              "    </tr>\n",
              "    <tr>\n",
              "      <th>3</th>\n",
              "      <td>5</td>\n",
              "      <td>10</td>\n",
              "      <td>0</td>\n",
              "      <td>2008-11-26 01:45:08</td>\n",
              "      <td>2008-02-06 00:00:00</td>\n",
              "      <td>NaN</td>\n",
              "      <td>4</td>\n",
              "      <td>6</td>\n",
              "      <td>NaN</td>\n",
              "      <td>47632</td>\n",
              "      <td>...</td>\n",
              "      <td>NaN</td>\n",
              "      <td>54881</td>\n",
              "      <td>en</td>\n",
              "      <td>Attribution-NonCommercial-NoDerivatives (aka M...</td>\n",
              "      <td>50135</td>\n",
              "      <td>NaN</td>\n",
              "      <td>1</td>\n",
              "      <td>NaN</td>\n",
              "      <td>[]</td>\n",
              "      <td>Freeway</td>\n",
              "    </tr>\n",
              "    <tr>\n",
              "      <th>4</th>\n",
              "      <td>6</td>\n",
              "      <td>20</td>\n",
              "      <td>0</td>\n",
              "      <td>2008-11-26 01:45:05</td>\n",
              "      <td>2009-01-06 00:00:00</td>\n",
              "      <td>NaN</td>\n",
              "      <td>2</td>\n",
              "      <td>4</td>\n",
              "      <td>&lt;p&gt; \"spiritual songs\" from Nicky Cook&lt;/p&gt;</td>\n",
              "      <td>2710</td>\n",
              "      <td>...</td>\n",
              "      <td>NaN</td>\n",
              "      <td>978</td>\n",
              "      <td>en</td>\n",
              "      <td>Attribution-NonCommercial-NoDerivatives (aka M...</td>\n",
              "      <td>361</td>\n",
              "      <td>NaN</td>\n",
              "      <td>3</td>\n",
              "      <td>NaN</td>\n",
              "      <td>[]</td>\n",
              "      <td>Spiritual Level</td>\n",
              "    </tr>\n",
              "    <tr>\n",
              "      <th>5</th>\n",
              "      <td>7</td>\n",
              "      <td>26</td>\n",
              "      <td>0</td>\n",
              "      <td>2008-11-26 01:45:05</td>\n",
              "      <td>2009-01-06 00:00:00</td>\n",
              "      <td>NaN</td>\n",
              "      <td>2</td>\n",
              "      <td>4</td>\n",
              "      <td>&lt;p&gt; \"spiritual songs\" from Nicky Cook&lt;/p&gt;</td>\n",
              "      <td>2710</td>\n",
              "      <td>...</td>\n",
              "      <td>NaN</td>\n",
              "      <td>1060</td>\n",
              "      <td>en</td>\n",
              "      <td>Attribution-NonCommercial-NoDerivatives (aka M...</td>\n",
              "      <td>193</td>\n",
              "      <td>NaN</td>\n",
              "      <td>4</td>\n",
              "      <td>NaN</td>\n",
              "      <td>[]</td>\n",
              "      <td>Where is your Love?</td>\n",
              "    </tr>\n",
              "    <tr>\n",
              "      <th>6</th>\n",
              "      <td>8</td>\n",
              "      <td>30</td>\n",
              "      <td>0</td>\n",
              "      <td>2008-11-26 01:45:05</td>\n",
              "      <td>2009-01-06 00:00:00</td>\n",
              "      <td>NaN</td>\n",
              "      <td>2</td>\n",
              "      <td>4</td>\n",
              "      <td>&lt;p&gt; \"spiritual songs\" from Nicky Cook&lt;/p&gt;</td>\n",
              "      <td>2710</td>\n",
              "      <td>...</td>\n",
              "      <td>NaN</td>\n",
              "      <td>718</td>\n",
              "      <td>en</td>\n",
              "      <td>Attribution-NonCommercial-NoDerivatives (aka M...</td>\n",
              "      <td>612</td>\n",
              "      <td>NaN</td>\n",
              "      <td>5</td>\n",
              "      <td>NaN</td>\n",
              "      <td>[]</td>\n",
              "      <td>Too Happy</td>\n",
              "    </tr>\n",
              "    <tr>\n",
              "      <th>7</th>\n",
              "      <td>9</td>\n",
              "      <td>46</td>\n",
              "      <td>0</td>\n",
              "      <td>2008-11-26 01:45:05</td>\n",
              "      <td>2009-01-06 00:00:00</td>\n",
              "      <td>NaN</td>\n",
              "      <td>2</td>\n",
              "      <td>4</td>\n",
              "      <td>&lt;p&gt; \"spiritual songs\" from Nicky Cook&lt;/p&gt;</td>\n",
              "      <td>2710</td>\n",
              "      <td>...</td>\n",
              "      <td>NaN</td>\n",
              "      <td>252</td>\n",
              "      <td>en</td>\n",
              "      <td>Attribution-NonCommercial-NoDerivatives (aka M...</td>\n",
              "      <td>171</td>\n",
              "      <td>NaN</td>\n",
              "      <td>8</td>\n",
              "      <td>NaN</td>\n",
              "      <td>[]</td>\n",
              "      <td>Yosemite</td>\n",
              "    </tr>\n",
              "    <tr>\n",
              "      <th>8</th>\n",
              "      <td>10</td>\n",
              "      <td>48</td>\n",
              "      <td>0</td>\n",
              "      <td>2008-11-26 01:45:05</td>\n",
              "      <td>2009-01-06 00:00:00</td>\n",
              "      <td>NaN</td>\n",
              "      <td>2</td>\n",
              "      <td>4</td>\n",
              "      <td>&lt;p&gt; \"spiritual songs\" from Nicky Cook&lt;/p&gt;</td>\n",
              "      <td>2710</td>\n",
              "      <td>...</td>\n",
              "      <td>NaN</td>\n",
              "      <td>247</td>\n",
              "      <td>en</td>\n",
              "      <td>Attribution-NonCommercial-NoDerivatives (aka M...</td>\n",
              "      <td>173</td>\n",
              "      <td>NaN</td>\n",
              "      <td>9</td>\n",
              "      <td>NaN</td>\n",
              "      <td>[]</td>\n",
              "      <td>Light of Light</td>\n",
              "    </tr>\n",
              "    <tr>\n",
              "      <th>9</th>\n",
              "      <td>11</td>\n",
              "      <td>134</td>\n",
              "      <td>0</td>\n",
              "      <td>2008-11-26 01:44:45</td>\n",
              "      <td>2009-01-05 00:00:00</td>\n",
              "      <td>NaN</td>\n",
              "      <td>4</td>\n",
              "      <td>1</td>\n",
              "      <td>&lt;p&gt;&lt;/p&gt;</td>\n",
              "      <td>6073</td>\n",
              "      <td>...</td>\n",
              "      <td>NaN</td>\n",
              "      <td>1126</td>\n",
              "      <td>en</td>\n",
              "      <td>Attribution-NonCommercial-ShareAlike 3.0 Inter...</td>\n",
              "      <td>943</td>\n",
              "      <td>NaN</td>\n",
              "      <td>5</td>\n",
              "      <td>NaN</td>\n",
              "      <td>[]</td>\n",
              "      <td>Street Music</td>\n",
              "    </tr>\n",
              "  </tbody>\n",
              "</table>\n",
              "<p>10 rows × 54 columns</p>\n",
              "</div>"
            ],
            "text/plain": [
              "   index track_id comments         date_created        date_released engineer  \\\n",
              "0      2        2        0  2008-11-26 01:44:45  2009-01-05 00:00:00      NaN   \n",
              "1      3        3        0  2008-11-26 01:44:45  2009-01-05 00:00:00      NaN   \n",
              "2      4        5        0  2008-11-26 01:44:45  2009-01-05 00:00:00      NaN   \n",
              "3      5       10        0  2008-11-26 01:45:08  2008-02-06 00:00:00      NaN   \n",
              "4      6       20        0  2008-11-26 01:45:05  2009-01-06 00:00:00      NaN   \n",
              "5      7       26        0  2008-11-26 01:45:05  2009-01-06 00:00:00      NaN   \n",
              "6      8       30        0  2008-11-26 01:45:05  2009-01-06 00:00:00      NaN   \n",
              "7      9       46        0  2008-11-26 01:45:05  2009-01-06 00:00:00      NaN   \n",
              "8     10       48        0  2008-11-26 01:45:05  2009-01-06 00:00:00      NaN   \n",
              "9     11      134        0  2008-11-26 01:44:45  2009-01-05 00:00:00      NaN   \n",
              "\n",
              "  favorites id                                information listens  \\\n",
              "0         4  1                                    <p></p>    6073   \n",
              "1         4  1                                    <p></p>    6073   \n",
              "2         4  1                                    <p></p>    6073   \n",
              "3         4  6                                        NaN   47632   \n",
              "4         2  4  <p> \"spiritual songs\" from Nicky Cook</p>    2710   \n",
              "5         2  4  <p> \"spiritual songs\" from Nicky Cook</p>    2710   \n",
              "6         2  4  <p> \"spiritual songs\" from Nicky Cook</p>    2710   \n",
              "7         2  4  <p> \"spiritual songs\" from Nicky Cook</p>    2710   \n",
              "8         2  4  <p> \"spiritual songs\" from Nicky Cook</p>    2710   \n",
              "9         4  1                                    <p></p>    6073   \n",
              "\n",
              "          ...          information interest language_code  \\\n",
              "0         ...                  NaN     4656            en   \n",
              "1         ...                  NaN     1470            en   \n",
              "2         ...                  NaN     1933            en   \n",
              "3         ...                  NaN    54881            en   \n",
              "4         ...                  NaN      978            en   \n",
              "5         ...                  NaN     1060            en   \n",
              "6         ...                  NaN      718            en   \n",
              "7         ...                  NaN      252            en   \n",
              "8         ...                  NaN      247            en   \n",
              "9         ...                  NaN     1126            en   \n",
              "\n",
              "                                             license listens lyricist number  \\\n",
              "0  Attribution-NonCommercial-ShareAlike 3.0 Inter...    1293      NaN      3   \n",
              "1  Attribution-NonCommercial-ShareAlike 3.0 Inter...     514      NaN      4   \n",
              "2  Attribution-NonCommercial-ShareAlike 3.0 Inter...    1151      NaN      6   \n",
              "3  Attribution-NonCommercial-NoDerivatives (aka M...   50135      NaN      1   \n",
              "4  Attribution-NonCommercial-NoDerivatives (aka M...     361      NaN      3   \n",
              "5  Attribution-NonCommercial-NoDerivatives (aka M...     193      NaN      4   \n",
              "6  Attribution-NonCommercial-NoDerivatives (aka M...     612      NaN      5   \n",
              "7  Attribution-NonCommercial-NoDerivatives (aka M...     171      NaN      8   \n",
              "8  Attribution-NonCommercial-NoDerivatives (aka M...     173      NaN      9   \n",
              "9  Attribution-NonCommercial-ShareAlike 3.0 Inter...     943      NaN      5   \n",
              "\n",
              "  publisher tags                title  \n",
              "0       NaN   []                 Food  \n",
              "1       NaN   []         Electric Ave  \n",
              "2       NaN   []           This World  \n",
              "3       NaN   []              Freeway  \n",
              "4       NaN   []      Spiritual Level  \n",
              "5       NaN   []  Where is your Love?  \n",
              "6       NaN   []            Too Happy  \n",
              "7       NaN   []             Yosemite  \n",
              "8       NaN   []       Light of Light  \n",
              "9       NaN   []         Street Music  \n",
              "\n",
              "[10 rows x 54 columns]"
            ]
          },
          "metadata": {
            "tags": []
          },
          "execution_count": 117
        }
      ]
    },
    {
      "metadata": {
        "id": "4jf52OBk5LLY",
        "colab_type": "text"
      },
      "cell_type": "markdown",
      "source": [
        "If we take a look at the `tracks.csv` file, we notice that there are many columns that we do not need. In fact, we only need two pieces of information: the **track_id** (in order to know to which song we are referring) and the **corresponding genre**."
      ]
    },
    {
      "metadata": {
        "id": "d1ZuqvlSW3Ik",
        "colab_type": "code",
        "colab": {
          "base_uri": "https://localhost:8080/",
          "height": 390
        },
        "outputId": "f3b59619-7a3b-45ea-f18b-ff8d469d01d2"
      },
      "cell_type": "code",
      "source": [
        "# We reduce the dataset in order to only keep the track ID and the genre\n",
        "reduced_tracks = pd.DataFrame({'track_id': tracks.track_id, 'genres': tracks.genres})\n",
        "reduced_tracks.track_id = reduced_tracks.track_id.astype(int)\n",
        "reduced_tracks.set_index('track_id', inplace = True) \n",
        "reduced_tracks[:10]"
      ],
      "execution_count": 214,
      "outputs": [
        {
          "output_type": "execute_result",
          "data": {
            "text/html": [
              "<div>\n",
              "<style scoped>\n",
              "    .dataframe tbody tr th:only-of-type {\n",
              "        vertical-align: middle;\n",
              "    }\n",
              "\n",
              "    .dataframe tbody tr th {\n",
              "        vertical-align: top;\n",
              "    }\n",
              "\n",
              "    .dataframe thead th {\n",
              "        text-align: right;\n",
              "    }\n",
              "</style>\n",
              "<table border=\"1\" class=\"dataframe\">\n",
              "  <thead>\n",
              "    <tr style=\"text-align: right;\">\n",
              "      <th></th>\n",
              "      <th>genres</th>\n",
              "    </tr>\n",
              "    <tr>\n",
              "      <th>track_id</th>\n",
              "      <th></th>\n",
              "    </tr>\n",
              "  </thead>\n",
              "  <tbody>\n",
              "    <tr>\n",
              "      <th>2</th>\n",
              "      <td>[21]</td>\n",
              "    </tr>\n",
              "    <tr>\n",
              "      <th>3</th>\n",
              "      <td>[21]</td>\n",
              "    </tr>\n",
              "    <tr>\n",
              "      <th>5</th>\n",
              "      <td>[21]</td>\n",
              "    </tr>\n",
              "    <tr>\n",
              "      <th>10</th>\n",
              "      <td>[10]</td>\n",
              "    </tr>\n",
              "    <tr>\n",
              "      <th>20</th>\n",
              "      <td>[76, 103]</td>\n",
              "    </tr>\n",
              "    <tr>\n",
              "      <th>26</th>\n",
              "      <td>[76, 103]</td>\n",
              "    </tr>\n",
              "    <tr>\n",
              "      <th>30</th>\n",
              "      <td>[76, 103]</td>\n",
              "    </tr>\n",
              "    <tr>\n",
              "      <th>46</th>\n",
              "      <td>[76, 103]</td>\n",
              "    </tr>\n",
              "    <tr>\n",
              "      <th>48</th>\n",
              "      <td>[76, 103]</td>\n",
              "    </tr>\n",
              "    <tr>\n",
              "      <th>134</th>\n",
              "      <td>[21]</td>\n",
              "    </tr>\n",
              "  </tbody>\n",
              "</table>\n",
              "</div>"
            ],
            "text/plain": [
              "             genres\n",
              "track_id           \n",
              "2              [21]\n",
              "3              [21]\n",
              "5              [21]\n",
              "10             [10]\n",
              "20        [76, 103]\n",
              "26        [76, 103]\n",
              "30        [76, 103]\n",
              "46        [76, 103]\n",
              "48        [76, 103]\n",
              "134            [21]"
            ]
          },
          "metadata": {
            "tags": []
          },
          "execution_count": 214
        }
      ]
    },
    {
      "metadata": {
        "id": "dY53kVD-5c_r",
        "colab_type": "code",
        "colab": {
          "base_uri": "https://localhost:8080/",
          "height": 34
        },
        "outputId": "06904208-45ad-4149-b372-fb8f12a5036b"
      },
      "cell_type": "code",
      "source": [
        "len(reduced_tracks)"
      ],
      "execution_count": 168,
      "outputs": [
        {
          "output_type": "execute_result",
          "data": {
            "text/plain": [
              "106574"
            ]
          },
          "metadata": {
            "tags": []
          },
          "execution_count": 168
        }
      ]
    },
    {
      "metadata": {
        "id": "7JPaLdaq5b_I",
        "colab_type": "text"
      },
      "cell_type": "markdown",
      "source": [
        "There is another problem: we are working on a **small subset** of an original dataset, while the metadata refers to the **entirety of the original dataset** (which explains why the previous dataset has over $100,000$ rows). For this reason, we will need to remove all the lines that refer to tracks that are not present in our sample."
      ]
    },
    {
      "metadata": {
        "id": "Tjc6pF_LfbdF",
        "colab_type": "text"
      },
      "cell_type": "markdown",
      "source": [
        "### Finding the track names"
      ]
    },
    {
      "metadata": {
        "id": "YEG_lD5qYGw0",
        "colab_type": "code",
        "colab": {}
      },
      "cell_type": "code",
      "source": [
        "# We iterate over all files in the `fma_small` folder, in order to get their names\n",
        "file_list = []\n",
        "\n",
        "for root, dirs, files in os.walk(\"/content/fma_small\"):  \n",
        "    file_list += [file_name for file_name in files]\n",
        "\n",
        "file_list = file_list[2:]"
      ],
      "execution_count": 0,
      "outputs": []
    },
    {
      "metadata": {
        "id": "Uy9VUpDxgLnb",
        "colab_type": "code",
        "colab": {}
      },
      "cell_type": "code",
      "source": [
        "# We then remove the '.mp3' extension and take the remaining name\n",
        "track_list = []\n",
        "\n",
        "for file_name in file_list:\n",
        "  track_id = int(file_name.split('.')[0])\n",
        "  track_list += [track_id]"
      ],
      "execution_count": 0,
      "outputs": []
    },
    {
      "metadata": {
        "id": "P5Fxbw_c4tl8",
        "colab_type": "text"
      },
      "cell_type": "markdown",
      "source": [
        " As a sanity check, we can see that the number of track names we have is indeed equal to the total number of tracks:"
      ]
    },
    {
      "metadata": {
        "id": "6UXxKz6k4Nu5",
        "colab_type": "code",
        "colab": {
          "base_uri": "https://localhost:8080/",
          "height": 34
        },
        "outputId": "9bf90284-6070-4b42-ee19-3d4652567aac"
      },
      "cell_type": "code",
      "source": [
        "len(track_list)"
      ],
      "execution_count": 171,
      "outputs": [
        {
          "output_type": "execute_result",
          "data": {
            "text/plain": [
              "8000"
            ]
          },
          "metadata": {
            "tags": []
          },
          "execution_count": 171
        }
      ]
    },
    {
      "metadata": {
        "id": "XRSqJIdF46N5",
        "colab_type": "text"
      },
      "cell_type": "markdown",
      "source": [
        "We can then use those track names to reduce the length of our dataset to the expected $8,000$ rows."
      ]
    },
    {
      "metadata": {
        "id": "dzKBJGAxg-gN",
        "colab_type": "code",
        "colab": {
          "base_uri": "https://localhost:8080/",
          "height": 390
        },
        "outputId": "6d05832c-c499-4342-d2b8-e88cc0085544"
      },
      "cell_type": "code",
      "source": [
        "reduced_tracks = reduced_tracks.reindex(track_list).sort_index()\n",
        "reduced_tracks[:10]"
      ],
      "execution_count": 215,
      "outputs": [
        {
          "output_type": "execute_result",
          "data": {
            "text/html": [
              "<div>\n",
              "<style scoped>\n",
              "    .dataframe tbody tr th:only-of-type {\n",
              "        vertical-align: middle;\n",
              "    }\n",
              "\n",
              "    .dataframe tbody tr th {\n",
              "        vertical-align: top;\n",
              "    }\n",
              "\n",
              "    .dataframe thead th {\n",
              "        text-align: right;\n",
              "    }\n",
              "</style>\n",
              "<table border=\"1\" class=\"dataframe\">\n",
              "  <thead>\n",
              "    <tr style=\"text-align: right;\">\n",
              "      <th></th>\n",
              "      <th>genres</th>\n",
              "    </tr>\n",
              "    <tr>\n",
              "      <th>track_id</th>\n",
              "      <th></th>\n",
              "    </tr>\n",
              "  </thead>\n",
              "  <tbody>\n",
              "    <tr>\n",
              "      <th>2</th>\n",
              "      <td>[21]</td>\n",
              "    </tr>\n",
              "    <tr>\n",
              "      <th>5</th>\n",
              "      <td>[21]</td>\n",
              "    </tr>\n",
              "    <tr>\n",
              "      <th>10</th>\n",
              "      <td>[10]</td>\n",
              "    </tr>\n",
              "    <tr>\n",
              "      <th>140</th>\n",
              "      <td>[17]</td>\n",
              "    </tr>\n",
              "    <tr>\n",
              "      <th>141</th>\n",
              "      <td>[17]</td>\n",
              "    </tr>\n",
              "    <tr>\n",
              "      <th>148</th>\n",
              "      <td>[1]</td>\n",
              "    </tr>\n",
              "    <tr>\n",
              "      <th>182</th>\n",
              "      <td>[27]</td>\n",
              "    </tr>\n",
              "    <tr>\n",
              "      <th>190</th>\n",
              "      <td>[17]</td>\n",
              "    </tr>\n",
              "    <tr>\n",
              "      <th>193</th>\n",
              "      <td>[17]</td>\n",
              "    </tr>\n",
              "    <tr>\n",
              "      <th>194</th>\n",
              "      <td>[17]</td>\n",
              "    </tr>\n",
              "  </tbody>\n",
              "</table>\n",
              "</div>"
            ],
            "text/plain": [
              "         genres\n",
              "track_id       \n",
              "2          [21]\n",
              "5          [21]\n",
              "10         [10]\n",
              "140        [17]\n",
              "141        [17]\n",
              "148         [1]\n",
              "182        [27]\n",
              "190        [17]\n",
              "193        [17]\n",
              "194        [17]"
            ]
          },
          "metadata": {
            "tags": []
          },
          "execution_count": 215
        }
      ]
    },
    {
      "metadata": {
        "id": "h7C6_7vd6Xcp",
        "colab_type": "text"
      },
      "cell_type": "markdown",
      "source": [
        "### Finding the right genre\n",
        "The people who have created this dataset have made it so that each song belongs to **one genre** out of **eight possible genres**. However, in this dataset, we can see that some songs have several genres attributed to them – in that case, it means that all its genres are \"subsets\" of a single \"parent\" genre.\n",
        "\n",
        "For most rows, the \"parent\" genre is the first genre listed (or the only genre mentionned). However, in certain cases, we find that there are **only subgenres** that are present, and that the \"parent\" genre is missing.\n",
        "\n",
        "In the end, the goal of this section is to only keep the \"parent\" genre, which is supposed to be unique, for every track we have in our dataset."
      ]
    },
    {
      "metadata": {
        "id": "UeAzzZg-7Rsv",
        "colab_type": "code",
        "colab": {}
      },
      "cell_type": "code",
      "source": [
        "genres.top_level = genres.top_level.astype(int)\n",
        "genres.genre_id = genres.genre_id.astype(int)\n",
        "genres.set_index('genre_id', inplace = True)"
      ],
      "execution_count": 0,
      "outputs": []
    },
    {
      "metadata": {
        "id": "daF4OwwO8AN9",
        "colab_type": "code",
        "colab": {}
      },
      "cell_type": "code",
      "source": [
        "def parent_genre(genre_list):\n",
        "  \n",
        "  \"\"\"\n",
        "  This is the function we apply on the `genres` column.\n",
        "  We replace every genre by its parent genre (if it exists, otherwise we change nothing).\n",
        "  \n",
        "  Afterwards, for a given row, if all parent genres are the same, then we remove\n",
        "  the list and keep the first element only.\n",
        "  \"\"\"\n",
        "  \n",
        "  genre_list = genre_list[1:-1].split(',')\n",
        "  genre_list = [int(genres.loc[int(x)].top_level) if int(x) in genres.index else int(x) for x in genre_list]\n",
        "  \n",
        "  if len(set(genre_list)) == 1:\n",
        "    return genre_list[0]\n",
        "  \n",
        "  else:\n",
        "    return genre_list\n",
        "\n",
        "\n",
        "\n",
        "reduced_tracks.genres = reduced_tracks.genres.apply(parent_genre, 1)"
      ],
      "execution_count": 0,
      "outputs": []
    },
    {
      "metadata": {
        "id": "IoqcasXa-scW",
        "colab_type": "code",
        "colab": {
          "base_uri": "https://localhost:8080/",
          "height": 390
        },
        "outputId": "e3ef9141-328b-4d3c-bbde-cbf63b5003d9"
      },
      "cell_type": "code",
      "source": [
        "reduced_tracks[:10]"
      ],
      "execution_count": 219,
      "outputs": [
        {
          "output_type": "execute_result",
          "data": {
            "text/html": [
              "<div>\n",
              "<style scoped>\n",
              "    .dataframe tbody tr th:only-of-type {\n",
              "        vertical-align: middle;\n",
              "    }\n",
              "\n",
              "    .dataframe tbody tr th {\n",
              "        vertical-align: top;\n",
              "    }\n",
              "\n",
              "    .dataframe thead th {\n",
              "        text-align: right;\n",
              "    }\n",
              "</style>\n",
              "<table border=\"1\" class=\"dataframe\">\n",
              "  <thead>\n",
              "    <tr style=\"text-align: right;\">\n",
              "      <th></th>\n",
              "      <th>genres</th>\n",
              "    </tr>\n",
              "    <tr>\n",
              "      <th>track_id</th>\n",
              "      <th></th>\n",
              "    </tr>\n",
              "  </thead>\n",
              "  <tbody>\n",
              "    <tr>\n",
              "      <th>2</th>\n",
              "      <td>21</td>\n",
              "    </tr>\n",
              "    <tr>\n",
              "      <th>5</th>\n",
              "      <td>21</td>\n",
              "    </tr>\n",
              "    <tr>\n",
              "      <th>10</th>\n",
              "      <td>10</td>\n",
              "    </tr>\n",
              "    <tr>\n",
              "      <th>140</th>\n",
              "      <td>17</td>\n",
              "    </tr>\n",
              "    <tr>\n",
              "      <th>141</th>\n",
              "      <td>17</td>\n",
              "    </tr>\n",
              "    <tr>\n",
              "      <th>148</th>\n",
              "      <td>38</td>\n",
              "    </tr>\n",
              "    <tr>\n",
              "      <th>182</th>\n",
              "      <td>12</td>\n",
              "    </tr>\n",
              "    <tr>\n",
              "      <th>190</th>\n",
              "      <td>17</td>\n",
              "    </tr>\n",
              "    <tr>\n",
              "      <th>193</th>\n",
              "      <td>17</td>\n",
              "    </tr>\n",
              "    <tr>\n",
              "      <th>194</th>\n",
              "      <td>17</td>\n",
              "    </tr>\n",
              "  </tbody>\n",
              "</table>\n",
              "</div>"
            ],
            "text/plain": [
              "          genres\n",
              "track_id        \n",
              "2             21\n",
              "5             21\n",
              "10            10\n",
              "140           17\n",
              "141           17\n",
              "148           38\n",
              "182           12\n",
              "190           17\n",
              "193           17\n",
              "194           17"
            ]
          },
          "metadata": {
            "tags": []
          },
          "execution_count": 219
        }
      ]
    },
    {
      "metadata": {
        "id": "PnN5Nzg9C3Pd",
        "colab_type": "text"
      },
      "cell_type": "markdown",
      "source": [
        "Now, we just need to replace the genre code with the proper genre name."
      ]
    },
    {
      "metadata": {
        "id": "IIG5x5mw9XF-",
        "colab_type": "code",
        "colab": {
          "base_uri": "https://localhost:8080/",
          "height": 390
        },
        "outputId": "e3901552-202f-4900-e64e-b031f3f1b5ce"
      },
      "cell_type": "code",
      "source": [
        "reduced_tracks.genres = reduced_tracks.genres.apply(lambda x: genres.loc[x].title)\n",
        "reduced_tracks[:10]"
      ],
      "execution_count": 221,
      "outputs": [
        {
          "output_type": "execute_result",
          "data": {
            "text/html": [
              "<div>\n",
              "<style scoped>\n",
              "    .dataframe tbody tr th:only-of-type {\n",
              "        vertical-align: middle;\n",
              "    }\n",
              "\n",
              "    .dataframe tbody tr th {\n",
              "        vertical-align: top;\n",
              "    }\n",
              "\n",
              "    .dataframe thead th {\n",
              "        text-align: right;\n",
              "    }\n",
              "</style>\n",
              "<table border=\"1\" class=\"dataframe\">\n",
              "  <thead>\n",
              "    <tr style=\"text-align: right;\">\n",
              "      <th></th>\n",
              "      <th>genres</th>\n",
              "    </tr>\n",
              "    <tr>\n",
              "      <th>track_id</th>\n",
              "      <th></th>\n",
              "    </tr>\n",
              "  </thead>\n",
              "  <tbody>\n",
              "    <tr>\n",
              "      <th>2</th>\n",
              "      <td>Hip-Hop</td>\n",
              "    </tr>\n",
              "    <tr>\n",
              "      <th>5</th>\n",
              "      <td>Hip-Hop</td>\n",
              "    </tr>\n",
              "    <tr>\n",
              "      <th>10</th>\n",
              "      <td>Pop</td>\n",
              "    </tr>\n",
              "    <tr>\n",
              "      <th>140</th>\n",
              "      <td>Folk</td>\n",
              "    </tr>\n",
              "    <tr>\n",
              "      <th>141</th>\n",
              "      <td>Folk</td>\n",
              "    </tr>\n",
              "    <tr>\n",
              "      <th>148</th>\n",
              "      <td>Experimental</td>\n",
              "    </tr>\n",
              "    <tr>\n",
              "      <th>182</th>\n",
              "      <td>Rock</td>\n",
              "    </tr>\n",
              "    <tr>\n",
              "      <th>190</th>\n",
              "      <td>Folk</td>\n",
              "    </tr>\n",
              "    <tr>\n",
              "      <th>193</th>\n",
              "      <td>Folk</td>\n",
              "    </tr>\n",
              "    <tr>\n",
              "      <th>194</th>\n",
              "      <td>Folk</td>\n",
              "    </tr>\n",
              "  </tbody>\n",
              "</table>\n",
              "</div>"
            ],
            "text/plain": [
              "                genres\n",
              "track_id              \n",
              "2              Hip-Hop\n",
              "5              Hip-Hop\n",
              "10                 Pop\n",
              "140               Folk\n",
              "141               Folk\n",
              "148       Experimental\n",
              "182               Rock\n",
              "190               Folk\n",
              "193               Folk\n",
              "194               Folk"
            ]
          },
          "metadata": {
            "tags": []
          },
          "execution_count": 221
        }
      ]
    },
    {
      "metadata": {
        "id": "tctp5H-iDUQC",
        "colab_type": "text"
      },
      "cell_type": "markdown",
      "source": [
        "We can now save this reduced .csv file."
      ]
    },
    {
      "metadata": {
        "id": "6yNyaaKuDWly",
        "colab_type": "code",
        "colab": {}
      },
      "cell_type": "code",
      "source": [
        "reduced_tracks.to_csv('/content/small_tracks.csv')"
      ],
      "execution_count": 0,
      "outputs": []
    }
  ]
}